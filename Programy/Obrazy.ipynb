{
 "cells": [
  {
   "cell_type": "markdown",
   "id": "2c7a7997",
   "metadata": {},
   "source": [
    "## Manipulacja obrazami w MoviePy"
   ]
  },
  {
   "cell_type": "markdown",
   "id": "3ab00a74",
   "metadata": {},
   "source": [
    "#### Połączenie kilku obrazów w film, dodanie muzyki"
   ]
  },
  {
   "cell_type": "code",
   "execution_count": 1,
   "id": "bc3aa878",
   "metadata": {},
   "outputs": [],
   "source": [
    "from moviepy.editor import *"
   ]
  },
  {
   "cell_type": "code",
   "execution_count": 131,
   "id": "000e78ac",
   "metadata": {},
   "outputs": [],
   "source": [
    "#ładowanie zdjęć\n",
    "\n",
    "\n",
    "image1 = ImageClip(\"images/image1.jpg\").set_duration(4)\n",
    "image2 = ImageClip(\"images/image2.jpg\").set_duration(4)\n",
    "image3 = ImageClip(\"images/image3.jpg\").set_duration(4)\n",
    "image4 = ImageClip(\"images/image6.JPG\").set_duration(4)\n",
    "\n",
    "concat_clip = concatenate_videoclips([image1,image2, image3, image4], method=\"compose\")\n",
    "#concat_clip.ipython_display(width=500, fps=24) #należy odkomentować w celu wywołania"
   ]
  },
  {
   "cell_type": "code",
   "execution_count": 132,
   "id": "bad62678",
   "metadata": {},
   "outputs": [],
   "source": [
    "image1.close()\n",
    "image2.close()\n",
    "image3.close()\n",
    "image4.close()\n",
    "video.close()"
   ]
  },
  {
   "cell_type": "markdown",
   "id": "cbc02daf",
   "metadata": {},
   "source": [
    "Powyższy przykład jest bardzo nieefektywny, rozmiar pliku wyjsciowego jest ogromny, montaż 4 zdjęć zajmuje ponad 30 MB, a sam proces trwa około 1 minuty."
   ]
  },
  {
   "cell_type": "code",
   "execution_count": null,
   "id": "4474c3cc",
   "metadata": {},
   "outputs": [],
   "source": [
    "clip = ImageSequenceClip([\"images/image1.jpg\", \"images/image2.jpg\", \"images/image3.jpg\", \"images/image4.JPG\"], fps=0.25)\n",
    "music = AudioFileClip(\"music/brasil_guitar.mp3\").set_duration(clip.duration)\n",
    "clip = clip.set_audio(music)\n",
    "clip.ipython_display(width=500)"
   ]
  },
  {
   "cell_type": "code",
   "execution_count": 58,
   "id": "d52c6555",
   "metadata": {},
   "outputs": [
    {
     "name": "stderr",
     "output_type": "stream",
     "text": [
      "chunk:   1%|▍                                                                             | 2/353 [00:00<00:22, 15.58it/s, now=None]"
     ]
    },
    {
     "name": "stdout",
     "output_type": "stream",
     "text": [
      "Moviepy - Building video output/image_sequence1.mp4.\n",
      "MoviePy - Writing audio in image_sequence1TEMP_MPY_wvf_snd.mp3\n"
     ]
    },
    {
     "name": "stderr",
     "output_type": "stream",
     "text": [
      "t:   0%|                                                                                            | 0/4 [00:00<?, ?it/s, now=None]"
     ]
    },
    {
     "name": "stdout",
     "output_type": "stream",
     "text": [
      "MoviePy - Done.\n",
      "Moviepy - Writing video output/image_sequence1.mp4\n",
      "\n"
     ]
    },
    {
     "name": "stderr",
     "output_type": "stream",
     "text": [
      "                                                                                                                                    \r"
     ]
    },
    {
     "name": "stdout",
     "output_type": "stream",
     "text": [
      "Moviepy - Done !\n",
      "Moviepy - video ready output/image_sequence1.mp4\n"
     ]
    }
   ],
   "source": [
    "clip.write_videofile(\"output/image_sequence1.mp4\")"
   ]
  },
  {
   "cell_type": "code",
   "execution_count": 59,
   "id": "435c7a62",
   "metadata": {},
   "outputs": [],
   "source": [
    "clip.close()\n",
    "music.close()"
   ]
  },
  {
   "cell_type": "markdown",
   "id": "6ab73f15",
   "metadata": {},
   "source": [
    "W tym przypadku postępujemy podobnie, jednakże postępowanie jest zachowane zgodnie z tym, jak została biblioteka napisana. Ważne by nie doprowadzać do przeciążenia pamięci RAM poprzez błędne zastosowanie elementów biblioteki. Należy też pamiętać o tym, jak działa kodek. \n",
    "Wynik natomiast jest identyczny co poprzednio, a różnica kolosalna: rozmiar to 5 MB (prawie co jedno zdjęcie), a czas wykonania procesu około 3 sekund.\n",
    "Wada: wszystkie zdjęcia muszę być tego samego rozmiaru"
   ]
  },
  {
   "cell_type": "markdown",
   "id": "ef84a42a",
   "metadata": {},
   "source": [
    "### Obraz zagnieżdżony w wideo"
   ]
  },
  {
   "cell_type": "code",
   "execution_count": null,
   "id": "105e312b",
   "metadata": {},
   "outputs": [],
   "source": [
    "clip = VideoFileClip(\"clips/street1.mp4\")\n",
    "clip2 = VideoFileClip(\"clips/tree1.avi\").set_position((0,0)).resize(0.3)\n",
    "clip2 = clip2.fadeout(1)\n",
    "image = ImageClip(\"images/image2.JPG\").resize(0.05).set_start(10).set_duration(5).set_position((\"right\", \"top\"))\n",
    "image = image.fadeout(1,0).fadein(1)\n",
    "\n",
    "music = AudioFileClip(\"music/lazy_walk.mp3\").set_start(0).set_end(clip.duration)\n",
    "\n",
    "video = CompositeVideoClip([clip, clip2, image])\n",
    "video = video.set_audio(music)\n",
    "video.ipython_display(width=500)\n",
    "\n",
    "#clip = clip.set_audio(music)\n",
    "#clip.ipython_display(width=500)\n",
    "\n",
    "\n"
   ]
  },
  {
   "cell_type": "code",
   "execution_count": 127,
   "id": "be4245de",
   "metadata": {},
   "outputs": [
    {
     "name": "stderr",
     "output_type": "stream",
     "text": [
      "                                                                                                                                    \n",
      "t:   0%|▏                                                                            | 1/601 [10:19<103:13:22, 619.34s/it, now=None]\n",
      "                                                                                                                                    \u001b[A\n",
      "t:   0%|▏                                                                            | 1/601 [10:19<103:13:24, 619.34s/it, now=None]\n",
      "t:   0%|▏                                                                               | 1/601 [00:28<4:43:45, 28.38s/it, now=None]\u001b[A\n",
      "\n",
      "chunk:   0%|                                                                                      | 0/442 [00:00<?, ?it/s, now=None]\u001b[A\u001b[A\n",
      "\n",
      "chunk:   0%|▎                                                                             | 2/442 [00:00<00:27, 16.27it/s, now=None]\u001b[A\u001b[A"
     ]
    },
    {
     "name": "stdout",
     "output_type": "stream",
     "text": [
      "Moviepy - Building video output/multiple_scenes.mp4.\n",
      "MoviePy - Writing audio in multiple_scenesTEMP_MPY_wvf_snd.mp3\n"
     ]
    },
    {
     "name": "stderr",
     "output_type": "stream",
     "text": [
      "\n",
      "\n",
      "chunk:   6%|████▉                                                                        | 28/442 [00:00<00:18, 22.60it/s, now=None]\u001b[A\u001b[A\n",
      "\n",
      "chunk:  26%|███████████████████▍                                                        | 113/442 [00:00<00:10, 31.92it/s, now=None]\u001b[A\u001b[A\n",
      "\n",
      "chunk:  46%|███████████████████████████████████                                         | 204/442 [00:00<00:05, 44.88it/s, now=None]\u001b[A\u001b[A\n",
      "\n",
      "chunk:  68%|███████████████████████████████████████████████████▉                        | 302/442 [00:00<00:02, 62.87it/s, now=None]\u001b[A\u001b[A\n",
      "\n",
      "chunk:  89%|███████████████████████████████████████████████████████████████████▋        | 394/442 [00:00<00:00, 87.23it/s, now=None]\u001b[A\u001b[A\n",
      "\n",
      "                                                                                                                                    \u001b[A\u001b[A\n",
      "t:   0%|▏                                                                            | 1/601 [10:20<103:20:36, 620.06s/it, now=None]\n",
      "                                                                                                                                    \u001b[A\n",
      "t:   0%|▏                                                                            | 1/601 [10:20<103:20:40, 620.07s/it, now=None]\n",
      "t:   0%|▏                                                                               | 1/601 [00:29<4:50:59, 29.10s/it, now=None]\u001b[A\n",
      "\n",
      "t:   0%|                                                                                          | 0/601 [00:00<?, ?it/s, now=None]\u001b[A\u001b[A"
     ]
    },
    {
     "name": "stdout",
     "output_type": "stream",
     "text": [
      "MoviePy - Done.\n",
      "Moviepy - Writing video output/multiple_scenes.mp4\n",
      "\n"
     ]
    },
    {
     "name": "stderr",
     "output_type": "stream",
     "text": [
      "\n",
      "\n",
      "t:   0%|▎                                                                                 | 2/601 [00:00<01:04,  9.35it/s, now=None]\u001b[A\u001b[A\n",
      "\n",
      "t:   2%|█▍                                                                               | 11/601 [00:00<00:46, 12.76it/s, now=None]\u001b[A\u001b[A\n",
      "\n",
      "t:   3%|██▋                                                                              | 20/601 [00:00<00:34, 17.08it/s, now=None]\u001b[A\u001b[A\n",
      "\n",
      "t:   5%|███▊                                                                             | 28/601 [00:00<00:25, 22.30it/s, now=None]\u001b[A\u001b[A\n",
      "\n",
      "t:   6%|█████                                                                            | 38/601 [00:00<00:19, 28.86it/s, now=None]\u001b[A\u001b[A\n",
      "\n",
      "t:   8%|██████▎                                                                          | 47/601 [00:00<00:15, 36.08it/s, now=None]\u001b[A\u001b[A\n",
      "\n",
      "t:   9%|███████▋                                                                         | 57/601 [00:00<00:13, 40.28it/s, now=None]\u001b[A\u001b[A\n",
      "\n",
      "t:  11%|████████▉                                                                        | 66/601 [00:01<00:11, 47.83it/s, now=None]\u001b[A\u001b[A\n",
      "\n",
      "t:  12%|█████████▉                                                                       | 74/601 [00:01<00:10, 51.74it/s, now=None]\u001b[A\u001b[A\n",
      "\n",
      "t:  13%|██████████▉                                                                      | 81/601 [00:01<00:09, 54.31it/s, now=None]\u001b[A\u001b[A\n",
      "\n",
      "t:  15%|███████████▊                                                                     | 88/601 [00:01<00:09, 56.14it/s, now=None]\u001b[A\u001b[A\n",
      "\n",
      "t:  16%|████████████▉                                                                    | 96/601 [00:01<00:08, 59.86it/s, now=None]\u001b[A\u001b[A\n",
      "\n",
      "t:  17%|█████████████▋                                                                  | 103/601 [00:01<00:08, 59.11it/s, now=None]\u001b[A\u001b[A\n",
      "\n",
      "t:  18%|██████████████▊                                                                 | 111/601 [00:01<00:07, 63.08it/s, now=None]\u001b[A\u001b[A\n",
      "\n",
      "t:  20%|███████████████▋                                                                | 118/601 [00:01<00:07, 64.07it/s, now=None]\u001b[A\u001b[A\n",
      "\n",
      "t:  21%|████████████████▋                                                               | 125/601 [00:01<00:07, 65.66it/s, now=None]\u001b[A\u001b[A\n",
      "\n",
      "t:  22%|█████████████████▌                                                              | 132/601 [00:02<00:07, 61.70it/s, now=None]\u001b[A\u001b[A\n",
      "\n",
      "t:  23%|██████████████████▌                                                             | 139/601 [00:02<00:07, 60.39it/s, now=None]\u001b[A\u001b[A\n",
      "\n",
      "t:  24%|███████████████████▍                                                            | 146/601 [00:02<00:07, 57.72it/s, now=None]\u001b[A\u001b[A\n",
      "\n",
      "t:  25%|████████████████████▎                                                           | 153/601 [00:02<00:07, 59.67it/s, now=None]\u001b[A\u001b[A\n",
      "\n",
      "t:  27%|█████████████████████▎                                                          | 160/601 [00:02<00:07, 59.57it/s, now=None]\u001b[A\u001b[A\n",
      "\n",
      "t:  28%|██████████████████████▏                                                         | 167/601 [00:02<00:07, 61.87it/s, now=None]\u001b[A\u001b[A\n",
      "\n",
      "t:  29%|███████████████████████▏                                                        | 174/601 [00:02<00:06, 63.77it/s, now=None]\u001b[A\u001b[A\n",
      "\n",
      "t:  30%|████████████████████████                                                        | 181/601 [00:02<00:06, 63.74it/s, now=None]\u001b[A\u001b[A\n",
      "\n",
      "t:  31%|█████████████████████████▏                                                      | 189/601 [00:02<00:06, 66.37it/s, now=None]\u001b[A\u001b[A\n",
      "\n",
      "t:  33%|██████████████████████████▎                                                     | 198/601 [00:03<00:05, 70.36it/s, now=None]\u001b[A\u001b[A\n",
      "\n",
      "t:  34%|███████████████████████████▍                                                    | 206/601 [00:03<00:05, 72.61it/s, now=None]\u001b[A\u001b[A\n",
      "\n",
      "t:  36%|████████████████████████████▍                                                   | 214/601 [00:03<00:05, 73.26it/s, now=None]\u001b[A\u001b[A\n",
      "\n",
      "t:  37%|█████████████████████████████▌                                                  | 222/601 [00:03<00:05, 72.70it/s, now=None]\u001b[A\u001b[A\n",
      "\n",
      "t:  38%|██████████████████████████████▋                                                 | 231/601 [00:03<00:04, 75.79it/s, now=None]\u001b[A\u001b[A\n",
      "\n",
      "t:  40%|███████████████████████████████▊                                                | 239/601 [00:03<00:05, 70.69it/s, now=None]\u001b[A\u001b[A\n",
      "\n",
      "t:  41%|█████████████████████████████████                                               | 248/601 [00:03<00:05, 69.59it/s, now=None]\u001b[A\u001b[A\n",
      "\n",
      "t:  43%|██████████████████████████████████                                              | 256/601 [00:03<00:04, 69.59it/s, now=None]\u001b[A\u001b[A\n",
      "\n",
      "t:  44%|███████████████████████████████████▏                                            | 264/601 [00:03<00:04, 71.26it/s, now=None]\u001b[A\u001b[A\n",
      "\n",
      "t:  46%|████████████████████████████████████▍                                           | 274/601 [00:04<00:04, 70.07it/s, now=None]\u001b[A\u001b[A\n",
      "\n",
      "t:  47%|█████████████████████████████████████▋                                          | 283/601 [00:04<00:04, 74.14it/s, now=None]\u001b[A\u001b[A\n",
      "\n",
      "t:  49%|██████████████████████████████████████▊                                         | 292/601 [00:04<00:04, 76.88it/s, now=None]\u001b[A\u001b[A\n",
      "\n",
      "t:  50%|████████████████████████████████████████                                        | 301/601 [00:04<00:03, 79.98it/s, now=None]\u001b[A\u001b[A\n",
      "\n",
      "t:  52%|█████████████████████████████████████████▎                                      | 310/601 [00:04<00:03, 81.30it/s, now=None]\u001b[A\u001b[A\n",
      "\n",
      "t:  53%|██████████████████████████████████████████▍                                     | 319/601 [00:04<00:03, 78.08it/s, now=None]\u001b[A\u001b[A\n",
      "\n",
      "t:  55%|███████████████████████████████████████████▋                                    | 328/601 [00:04<00:03, 80.88it/s, now=None]\u001b[A\u001b[A\n",
      "\n",
      "t:  56%|████████████████████████████████████████████▊                                   | 337/601 [00:04<00:03, 82.51it/s, now=None]\u001b[A\u001b[A\n",
      "\n",
      "t:  58%|██████████████████████████████████████████████                                  | 346/601 [00:05<00:03, 76.64it/s, now=None]\u001b[A\u001b[A\n",
      "\n",
      "t:  59%|███████████████████████████████████████████████                                 | 354/601 [00:05<00:03, 75.21it/s, now=None]\u001b[A\u001b[A\n",
      "\n",
      "t:  60%|████████████████████████████████████████████████▏                               | 362/601 [00:05<00:03, 74.88it/s, now=None]\u001b[A\u001b[A\n",
      "\n",
      "t:  62%|█████████████████████████████████████████████████▎                              | 370/601 [00:05<00:03, 75.49it/s, now=None]\u001b[A\u001b[A\n",
      "\n",
      "t:  63%|██████████████████████████████████████████████████▎                             | 378/601 [00:05<00:02, 76.58it/s, now=None]\u001b[A\u001b[A\n",
      "\n",
      "t:  64%|███████████████████████████████████████████████████▍                            | 386/601 [00:05<00:03, 71.36it/s, now=None]\u001b[A\u001b[A\n",
      "\n",
      "t:  66%|████████████████████████████████████████████████████▍                           | 394/601 [00:05<00:02, 70.45it/s, now=None]\u001b[A\u001b[A\n",
      "\n",
      "t:  67%|█████████████████████████████████████████████████████▋                          | 403/601 [00:05<00:02, 73.89it/s, now=None]\u001b[A\u001b[A\n",
      "\n",
      "t:  69%|██████████████████████████████████████████████████████▉                         | 413/601 [00:05<00:02, 79.99it/s, now=None]\u001b[A\u001b[A\n",
      "\n",
      "t:  70%|████████████████████████████████████████████████████████▎                       | 423/601 [00:06<00:02, 83.62it/s, now=None]\u001b[A\u001b[A\n",
      "\n",
      "t:  72%|█████████████████████████████████████████████████████████▋                      | 433/601 [00:06<00:01, 87.49it/s, now=None]\u001b[A\u001b[A\n",
      "\n",
      "t:  74%|██████████████████████████████████████████████████████████▊                     | 442/601 [00:06<00:01, 87.22it/s, now=None]\u001b[A\u001b[A\n",
      "\n",
      "t:  75%|████████████████████████████████████████████████████████████▏                   | 452/601 [00:06<00:01, 87.15it/s, now=None]\u001b[A\u001b[A\n",
      "\n",
      "t:  77%|█████████████████████████████████████████████████████████████▎                  | 461/601 [00:06<00:01, 87.75it/s, now=None]\u001b[A\u001b[A\n",
      "\n",
      "t:  78%|██████████████████████████████████████████████████████████████▋                 | 471/601 [00:06<00:01, 90.61it/s, now=None]\u001b[A\u001b[A\n",
      "\n",
      "t:  80%|████████████████████████████████████████████████████████████████                | 481/601 [00:06<00:01, 89.26it/s, now=None]\u001b[A\u001b[A\n",
      "\n",
      "t:  82%|█████████████████████████████████████████████████████████████████▏              | 490/601 [00:06<00:01, 79.54it/s, now=None]\u001b[A\u001b[A\n",
      "\n",
      "t:  83%|██████████████████████████████████████████████████████████████████▍             | 499/601 [00:06<00:01, 81.97it/s, now=None]\u001b[A\u001b[A\n",
      "\n",
      "t:  85%|███████████████████████████████████████████████████████████████████▌            | 508/601 [00:07<00:01, 80.84it/s, now=None]\u001b[A\u001b[A\n",
      "\n",
      "t:  86%|████████████████████████████████████████████████████████████████████▊           | 517/601 [00:07<00:01, 77.02it/s, now=None]\u001b[A\u001b[A\n",
      "\n",
      "t:  87%|█████████████████████████████████████████████████████████████████████▉          | 525/601 [00:07<00:01, 66.52it/s, now=None]\u001b[A\u001b[A\n",
      "\n",
      "t:  89%|███████████████████████████████████████████████████████████████████████▎        | 536/601 [00:07<00:00, 74.56it/s, now=None]\u001b[A\u001b[A\n",
      "\n",
      "t:  91%|████████████████████████████████████████████████████████████████████████▌       | 545/601 [00:07<00:00, 75.08it/s, now=None]\u001b[A\u001b[A\n",
      "\n",
      "t:  92%|█████████████████████████████████████████████████████████████████████████▉      | 555/601 [00:07<00:00, 79.99it/s, now=None]\u001b[A\u001b[A\n",
      "\n",
      "t:  94%|███████████████████████████████████████████████████████████████████████████▏    | 565/601 [00:07<00:00, 84.04it/s, now=None]\u001b[A\u001b[A\n",
      "\n",
      "t:  96%|████████████████████████████████████████████████████████████████████████████▍   | 574/601 [00:07<00:00, 83.61it/s, now=None]\u001b[A\u001b[A\n",
      "\n",
      "t:  97%|█████████████████████████████████████████████████████████████████████████████▋  | 584/601 [00:07<00:00, 86.80it/s, now=None]\u001b[A\u001b[A\n",
      "\n",
      "t:  99%|██████████████████████████████████████████████████████████████████████████████▉ | 593/601 [00:08<00:00, 85.26it/s, now=None]\u001b[A\u001b[A\n",
      "\n",
      "                                                                                                                                    \u001b[A\u001b[A\n",
      "t:   0%|▏                                                                            | 1/601 [10:28<104:46:22, 628.64s/it, now=None]\n",
      "                                                                                                                                    \u001b[A\n",
      "t:   0%|▏                                                                            | 1/601 [10:28<104:46:27, 628.65s/it, now=None]\n",
      "t:   0%|▏                                                                               | 1/601 [00:37<6:16:47, 37.68s/it, now=None]\u001b[A"
     ]
    },
    {
     "name": "stdout",
     "output_type": "stream",
     "text": [
      "Moviepy - Done !\n",
      "Moviepy - video ready output/multiple_scenes.mp4\n"
     ]
    }
   ],
   "source": [
    "video.write_videofile(\"output/multiple_scenes.mp4\")"
   ]
  },
  {
   "cell_type": "code",
   "execution_count": 128,
   "id": "cce1e6a1",
   "metadata": {},
   "outputs": [],
   "source": [
    "clip.close()\n",
    "clip2.close()\n",
    "image.close()\n",
    "music.close()\n",
    "video.close()"
   ]
  },
  {
   "cell_type": "code",
   "execution_count": null,
   "id": "4eefb683",
   "metadata": {},
   "outputs": [],
   "source": []
  }
 ],
 "metadata": {
  "kernelspec": {
   "display_name": "Python 3",
   "language": "python",
   "name": "python3"
  },
  "language_info": {
   "codemirror_mode": {
    "name": "ipython",
    "version": 3
   },
   "file_extension": ".py",
   "mimetype": "text/x-python",
   "name": "python",
   "nbconvert_exporter": "python",
   "pygments_lexer": "ipython3",
   "version": "3.8.5"
  }
 },
 "nbformat": 4,
 "nbformat_minor": 5
}
