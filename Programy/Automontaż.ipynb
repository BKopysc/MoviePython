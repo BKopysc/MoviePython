{
 "cells": [
  {
   "cell_type": "code",
   "execution_count": 1,
   "id": "385c5cb2",
   "metadata": {},
   "outputs": [],
   "source": [
    "from moviepy.editor import *\n",
    "from os import listdir\n",
    "from os.path import isfile, join\n"
   ]
  },
  {
   "cell_type": "code",
   "execution_count": 2,
   "id": "12c698ef",
   "metadata": {},
   "outputs": [
    {
     "name": "stdout",
     "output_type": "stream",
     "text": [
      "0 : my_street_film/clips/MVI_7176.AVI\n",
      "1 : my_street_film/clips/MVI_7177.AVI\n",
      "2 : my_street_film/clips/MVI_7179.AVI\n",
      "3 : my_street_film/clips/MVI_7182.AVI\n",
      "4 : my_street_film/clips/MVI_7183.AVI\n",
      "5 : my_street_film/clips/MVI_7184.AVI\n",
      "6 : my_street_film/clips/MVI_7185.AVI\n",
      "7 : my_street_film/clips/MVI_7186.AVI\n",
      "8 : my_street_film/clips/MVI_7188.AVI\n",
      "9 : my_street_film/clips/MVI_7190.AVI\n",
      "10 : my_street_film/clips/MVI_7191.AVI\n",
      "11 : my_street_film/clips/MVI_7197.AVI\n",
      "12 : my_street_film/clips/MVI_7198.AVI\n",
      "13 : my_street_film/clips/MVI_7202.AVI\n",
      "14 : my_street_film/clips/MVI_7205.AVI\n",
      "0 : my_street_film/music/Dream Lagoon - Chris Haugen.mp3\n",
      "1 : my_street_film/music/Spring Migration - The Great North Sound Society.mp3\n",
      "2 : my_street_film/music/The Crows Did It - Nathan Moore.mp3\n"
     ]
    }
   ],
   "source": [
    "#Załadowanie wszystkich klipów z folderu, warto znać ich kolejność\n",
    "clip_path = \"my_street_film/clips/\"\n",
    "def load_files(clip_path):\n",
    "    files = [f for f in listdir(clip_path)]\n",
    "    files = [clip_path + f for f in files]\n",
    "    i=0\n",
    "    for n in files:\n",
    "        print(i,\":\",n)\n",
    "        i+=1\n",
    "    multi_clips = [n for n in files]\n",
    "    return multi_clips\n",
    "\n",
    "multi_clips = load_files(clip_path)\n",
    "multi_music = load_files(\"my_street_film/music/\")"
   ]
  },
  {
   "cell_type": "code",
   "execution_count": 7,
   "id": "e03441f5",
   "metadata": {},
   "outputs": [
    {
     "name": "stdout",
     "output_type": "stream",
     "text": [
      "0 zrobiony\n",
      "1 zrobiony\n",
      "2 zrobiony\n",
      "3 zrobiony\n",
      "4 zrobiony\n",
      "5 zrobiony\n",
      "6 zrobiony\n",
      "7 zrobiony\n",
      "8 zrobiony\n",
      "9 zrobiony\n",
      "10 zrobiony\n",
      "11 zrobiony\n",
      "12 zrobiony\n",
      "13 zrobiony\n",
      "14 zrobiony\n",
      "clips generated\n",
      "60.0\n",
      "music generated\n"
     ]
    },
    {
     "name": "stderr",
     "output_type": "stream",
     "text": [
      "\r",
      "chunk:   0%|                                                                        | 0/1324 [00:00<?, ?it/s, now=None]"
     ]
    },
    {
     "name": "stdout",
     "output_type": "stream",
     "text": [
      "Moviepy - Building video output/film1.mp4.\n",
      "MoviePy - Writing audio in film1TEMP_MPY_wvf_snd.mp3\n"
     ]
    },
    {
     "name": "stderr",
     "output_type": "stream",
     "text": [
      "t:   0%|                                                                            | 0/1800 [00:00<?, ?it/s, now=None]"
     ]
    },
    {
     "name": "stdout",
     "output_type": "stream",
     "text": [
      "MoviePy - Done.\n",
      "Moviepy - Writing video output/film1.mp4\n",
      "\n"
     ]
    },
    {
     "name": "stderr",
     "output_type": "stream",
     "text": [
      "                                                                                                                       \r"
     ]
    },
    {
     "name": "stdout",
     "output_type": "stream",
     "text": [
      "Moviepy - Done !\n",
      "Moviepy - video ready output/film1.mp4\n"
     ]
    },
    {
     "ename": "NameError",
     "evalue": "name 'randomize_order' is not defined",
     "output_type": "error",
     "traceback": [
      "\u001b[1;31m---------------------------------------------------------------------------\u001b[0m",
      "\u001b[1;31mNameError\u001b[0m                                 Traceback (most recent call last)",
      "\u001b[1;32m<ipython-input-7-7c37d21cbf6a>\u001b[0m in \u001b[0;36m<module>\u001b[1;34m\u001b[0m\n\u001b[0;32m     63\u001b[0m \u001b[0mfinal\u001b[0m \u001b[1;33m=\u001b[0m \u001b[0mfinal\u001b[0m\u001b[1;33m.\u001b[0m\u001b[0mset_audio\u001b[0m\u001b[1;33m(\u001b[0m\u001b[0mfinal_audio\u001b[0m\u001b[1;33m)\u001b[0m\u001b[1;33m\u001b[0m\u001b[1;33m\u001b[0m\u001b[0m\n\u001b[0;32m     64\u001b[0m \u001b[0mfinal\u001b[0m\u001b[1;33m.\u001b[0m\u001b[0mwrite_videofile\u001b[0m\u001b[1;33m(\u001b[0m\u001b[1;34m\"output/film1.mp4\"\u001b[0m\u001b[1;33m)\u001b[0m\u001b[1;33m\u001b[0m\u001b[1;33m\u001b[0m\u001b[0m\n\u001b[1;32m---> 65\u001b[1;33m \u001b[0mprint\u001b[0m\u001b[1;33m(\u001b[0m\u001b[0mrandomize_order\u001b[0m\u001b[1;33m)\u001b[0m\u001b[1;33m\u001b[0m\u001b[1;33m\u001b[0m\u001b[0m\n\u001b[0m\u001b[0;32m     66\u001b[0m \u001b[0mprint\u001b[0m\u001b[1;33m(\u001b[0m\u001b[0mgenerate_clips\u001b[0m\u001b[1;33m)\u001b[0m\u001b[1;33m\u001b[0m\u001b[1;33m\u001b[0m\u001b[0m\n\u001b[0;32m     67\u001b[0m \u001b[1;33m\u001b[0m\u001b[0m\n",
      "\u001b[1;31mNameError\u001b[0m: name 'randomize_order' is not defined"
     ]
    }
   ],
   "source": [
    "def arrange_clips(max_time, multi_clips, order):\n",
    "    video_clips =[]\n",
    "    end_times = []\n",
    "    end_times.append(0)\n",
    "    \n",
    "    for n in order:\n",
    "        clip = VideoFileClip(multi_clips[n])\n",
    "        clip_time = clip.duration\n",
    "        #time = round(random.uniform(min_time,max_time),2)\n",
    "        time = max_time\n",
    "        if max_time > clip_time:\n",
    "            time = clip_time\n",
    "        start=0\n",
    "        #rand_start = round(random.uniform(0,rand_start),2)\n",
    "        clip = clip.subclip(start,start+time)\n",
    "        clip = clip.set_start(end_times[len(end_times)-1])\n",
    "        end_times.append(clip.end)\n",
    "        video_clips.append(clip)\n",
    "        print(n, \"zrobiony\")\n",
    "        \n",
    "    return video_clips\n",
    "\n",
    "\n",
    "def arrange_music(multi_music, order, generated_clips, fadetime):\n",
    "    #iscut daje losowy przydzial audio\n",
    "    clips_time = sum(map(float,[f.duration for f in generated_clips]))\n",
    "    all_music_time = sum([AudioFileClip(f).duration for f in multi_music])\n",
    "#    clips_music = [f.audio for f in generated_clips]\n",
    "    clips_music = []\n",
    "#    print(clips_music)\n",
    "    print(clips_time)\n",
    "\n",
    "    end_times = []\n",
    "    end_times.append(0)\n",
    "    \n",
    "\n",
    "    for n in order:\n",
    "        music = AudioFileClip(multi_music[n])\n",
    "        if music.duration > (clips_time-end_times[len(end_times)-1]):\n",
    "            music = music.set_start(end_times[len(end_times)-1])\n",
    "            music = music.set_end(clips_time)\n",
    "            music = music.audio_fadein(fadetime).audio_fadeout(fadetime)\n",
    "            clips_music.append(music)\n",
    "            break\n",
    "        else:\n",
    "            music = music.set_start(end_times[len(end_times)-1])\n",
    "            clips_music.append(music)\n",
    "            end_times.append(music.end)\n",
    "    return clips_music\n",
    "\n",
    "clips_order = [n for n in range(0,len(multi_clips))]\n",
    "music_order = [n for n in range(0,len(multi_music))]\n",
    "generated_clips = arrange_clips(4,multi_clips,clips_order)\n",
    "##minimalny czas trwania, maksymalny czas, klipy, kolejność\n",
    "print(\"clips generated\")\n",
    "\n",
    "generated_music = arrange_music(multi_music, music_order, generated_clips, 1.5)\n",
    "print(\"music generated\")\n",
    "##print(random_music_order)\n",
    "\n",
    "final = CompositeVideoClip(generated_clips)\n",
    "final_audio = CompositeAudioClip(generated_music)\n",
    "final = final.set_audio(final_audio)\n",
    "final.write_videofile(\"output/film1.mp4\")\n",
    "\n",
    "\n",
    "    "
   ]
  },
  {
   "cell_type": "code",
   "execution_count": null,
   "id": "23a1e5e1",
   "metadata": {},
   "outputs": [],
   "source": []
  }
 ],
 "metadata": {
  "kernelspec": {
   "display_name": "Python 3",
   "language": "python",
   "name": "python3"
  },
  "language_info": {
   "codemirror_mode": {
    "name": "ipython",
    "version": 3
   },
   "file_extension": ".py",
   "mimetype": "text/x-python",
   "name": "python",
   "nbconvert_exporter": "python",
   "pygments_lexer": "ipython3",
   "version": "3.8.5"
  }
 },
 "nbformat": 4,
 "nbformat_minor": 5
}
