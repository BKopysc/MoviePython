{
 "cells": [
  {
   "cell_type": "markdown",
   "id": "25780312",
   "metadata": {},
   "source": [
    "## Animacje funkcji matematycznych"
   ]
  },
  {
   "cell_type": "markdown",
   "id": "6b1d1373",
   "metadata": {},
   "source": [
    "### Dynamiczna zmiana prędkości"
   ]
  },
  {
   "cell_type": "code",
   "execution_count": 110,
   "id": "9123ff6f",
   "metadata": {},
   "outputs": [],
   "source": [
    "from moviepy.editor import *\n",
    "import numpy as np\n",
    "import matplotlib.pyplot as plt\n",
    "import cv2 as cv\n",
    "#from PIL import Image,ImageFilter,ImageEnhance "
   ]
  },
  {
   "cell_type": "markdown",
   "id": "0d3e5669",
   "metadata": {},
   "source": [
    "##### Prędkość wyrażona jako wartość stała"
   ]
  },
  {
   "cell_type": "code",
   "execution_count": null,
   "id": "893b440d",
   "metadata": {},
   "outputs": [],
   "source": [
    "#ładowanie klipu\n",
    "clip = VideoFileClip(\"clips/old_russia.mp4\").subclip(0,15) #wycięcie klipu od 0 do 15 sekundy.\n",
    "\n",
    "#ładowanie muzyki\n",
    "music = AudioFileClip(\"music/jummpin_old.mp3\")\n",
    "\n",
    "clip = clip.set_audio(music.set_duration(clip.duration))\n",
    "\n",
    "multipler = 3 \n",
    "mod_clip = clip.fl_time(lambda t: multipler*t).set_duration((clip.duration)/multipler) #t jest odpowiednikiem mijającego czasu.\n",
    "\n",
    "mod_clip.ipython_display(width=500)"
   ]
  },
  {
   "cell_type": "code",
   "execution_count": 16,
   "id": "d385f92a",
   "metadata": {},
   "outputs": [
    {
     "name": "stderr",
     "output_type": "stream",
     "text": [
      "chunk:   2%|█▏                                                               | 2/111 [00:00<00:05, 18.88it/s, now=None]"
     ]
    },
    {
     "name": "stdout",
     "output_type": "stream",
     "text": [
      "Moviepy - Building video output/3times_faster.mp4.\n",
      "MoviePy - Writing audio in 3times_fasterTEMP_MPY_wvf_snd.mp3\n"
     ]
    },
    {
     "name": "stderr",
     "output_type": "stream",
     "text": [
      "t:   1%|▉                                                                    | 2/150 [00:00<00:09, 16.01it/s, now=None]"
     ]
    },
    {
     "name": "stdout",
     "output_type": "stream",
     "text": [
      "MoviePy - Done.\n",
      "Moviepy - Writing video output/3times_faster.mp4\n",
      "\n"
     ]
    },
    {
     "name": "stderr",
     "output_type": "stream",
     "text": [
      "                                                                                                                       \r"
     ]
    },
    {
     "name": "stdout",
     "output_type": "stream",
     "text": [
      "Moviepy - Done !\n",
      "Moviepy - video ready output/3times_faster.mp4\n"
     ]
    }
   ],
   "source": [
    "#zapis do pliku\n",
    "#mod_clip.write_videofile(\"output/3times_faster.mp4\")"
   ]
  },
  {
   "cell_type": "code",
   "execution_count": 18,
   "id": "18599b08",
   "metadata": {},
   "outputs": [],
   "source": [
    "clip.close()\n",
    "mod_clip.close()\n",
    "music.close()"
   ]
  },
  {
   "cell_type": "markdown",
   "id": "ecfb2c4e",
   "metadata": {},
   "source": [
    "##### Prędkość wyrażona jako wartość zmienna funkcji sinus"
   ]
  },
  {
   "cell_type": "code",
   "execution_count": 61,
   "id": "8181b3f3",
   "metadata": {},
   "outputs": [
    {
     "name": "stdout",
     "output_type": "stream",
     "text": [
      "Funkcja: 1 + sin(2*x)\n"
     ]
    },
    {
     "data": {
      "image/png": "[encoded data removed]",
      "text/plain": [
       "<Figure size 432x288 with 1 Axes>"
      ]
     },
     "metadata": {
      "needs_background": "light"
     },
     "output_type": "display_data"
    }
   ],
   "source": [
    "x = np.linspace(0,10,100) #50 punktów od 0 do 4\n",
    "\n",
    "y = 1 + np.sin(2*x) #funckja\n",
    "\n",
    "print(\"Funkcja: 1 + sin(2*x)\")\n",
    "\n",
    "fig = plt.figure()\n",
    "\n",
    "plt.plot(x,y, 'r')\n",
    "plt.ylabel('T - timeline')\n",
    "plt.xlabel('D - duration')\n",
    "\n",
    "plt.title('Wykres funkcji ukazujący zachowanie czasu w filmie')\n",
    "plt.show()\n"
   ]
  },
  {
   "cell_type": "code",
   "execution_count": null,
   "id": "23810ef1",
   "metadata": {},
   "outputs": [],
   "source": [
    "#ładowanie klipu\n",
    "clip = VideoFileClip(\"clips/old_russia.mp4\").subclip(5,25) #wycięcie klipu od 5 do 25 sekundy.\n",
    "\n",
    "#ładowanie muzyki\n",
    "music = AudioFileClip(\"music/jummpin_old.mp3\")\n",
    "\n",
    "clip = clip.set_audio(music.set_duration(clip.duration))\n",
    "\n",
    "multipler = 2 \n",
    "mod_clip = clip.fl_time(lambda t: 1+np.sin(2*t)).set_duration((clip.duration)/multipler) #t jest odpowiednikiem mijającego czasu.\n",
    "mod_clip.ipython_display(width=500)"
   ]
  },
  {
   "cell_type": "code",
   "execution_count": 27,
   "id": "ce032ad8",
   "metadata": {},
   "outputs": [
    {
     "name": "stderr",
     "output_type": "stream",
     "text": [
      "\r",
      "chunk:   0%|                                                                         | 0/221 [00:00<?, ?it/s, now=None]"
     ]
    },
    {
     "name": "stdout",
     "output_type": "stream",
     "text": [
      "Moviepy - Building video output/sinus_effect.mp4.\n",
      "MoviePy - Writing audio in sinus_effectTEMP_MPY_wvf_snd.mp3\n"
     ]
    },
    {
     "name": "stderr",
     "output_type": "stream",
     "text": [
      "t:   0%|                                                                             | 0/300 [00:00<?, ?it/s, now=None]"
     ]
    },
    {
     "name": "stdout",
     "output_type": "stream",
     "text": [
      "MoviePy - Done.\n",
      "Moviepy - Writing video output/sinus_effect.mp4\n",
      "\n"
     ]
    },
    {
     "name": "stderr",
     "output_type": "stream",
     "text": [
      "                                                                                                                       \r"
     ]
    },
    {
     "name": "stdout",
     "output_type": "stream",
     "text": [
      "Moviepy - Done !\n",
      "Moviepy - video ready output/sinus_effect.mp4\n"
     ]
    }
   ],
   "source": [
    "#zapis do pliku\n",
    "mod_clip.write_videofile(\"output/sinus_effect.mp4\")"
   ]
  },
  {
   "cell_type": "code",
   "execution_count": null,
   "id": "ff06705c",
   "metadata": {},
   "outputs": [],
   "source": [
    "clip.close()\n",
    "mod_clip.close()\n",
    "music.close()"
   ]
  },
  {
   "cell_type": "markdown",
   "id": "49d33c93",
   "metadata": {},
   "source": [
    "Jak widać klip zachowuje się jak funkcja sinus, przemieszcza się do przodu, po czym, po osiągnięciu amplitudy coraz szybciej się cofa do wartości ujemnych."
   ]
  },
  {
   "cell_type": "markdown",
   "id": "451a0357",
   "metadata": {},
   "source": [
    "##### Prędkość wyrażona jako ciekawa funkcja"
   ]
  },
  {
   "cell_type": "code",
   "execution_count": 59,
   "id": "6329b38c",
   "metadata": {},
   "outputs": [
    {
     "name": "stdout",
     "output_type": "stream",
     "text": [
      "Funkcja: 1 + 2*sin((1/30)*e^x) + 1\n"
     ]
    },
    {
     "data": {
      "image/png": "[encoded data removed]",
      "text/plain": [
       "<Figure size 432x288 with 1 Axes>"
      ]
     },
     "metadata": {
      "needs_background": "light"
     },
     "output_type": "display_data"
    }
   ],
   "source": [
    "x = np.linspace(0,10,100) #50 punktów od 0 do 4\n",
    "\n",
    "\n",
    "y = 1 + 2*np.sin((1/30)*np.exp(1)**x)+1 #funckja\n",
    "\n",
    "print(\"Funkcja: 1 + 2*sin((1/30)*e^x) + 1\")\n",
    "\n",
    "fig = plt.figure()\n",
    "\n",
    "plt.plot(x,y, 'r')\n",
    "plt.ylabel('T - timeline')\n",
    "plt.xlabel('D - duration')\n",
    "\n",
    "plt.title('Wykres funkcji ukazujący zachowanie czasu w filmie')\n",
    "plt.show()"
   ]
  },
  {
   "cell_type": "code",
   "execution_count": null,
   "id": "5394ce5a",
   "metadata": {},
   "outputs": [],
   "source": [
    "#ładowanie klipu\n",
    "clip = VideoFileClip(\"clips/old_russia.mp4\").subclip(15,25) #wycięcie klipu od 5 do 25 sekundy.\n",
    "\n",
    "#ładowanie muzyki\n",
    "music = AudioFileClip(\"music/jummpin_old.mp3\")\n",
    "\n",
    "clip = clip.set_audio(music.set_duration(clip.duration))\n",
    "\n",
    "mod_clip = clip.fl_time(lambda t: 1 + 2*np.sin((1/30)*np.exp(1)**t)+1).set_duration(10) #t jest odpowiednikiem mijającego czasu.\n",
    "mod_clip.ipython_display(width=500)"
   ]
  },
  {
   "cell_type": "code",
   "execution_count": 63,
   "id": "7cef4624",
   "metadata": {},
   "outputs": [
    {
     "name": "stderr",
     "output_type": "stream",
     "text": [
      "\r",
      "chunk:   0%|                                                                         | 0/221 [00:00<?, ?it/s, now=None]"
     ]
    },
    {
     "name": "stdout",
     "output_type": "stream",
     "text": [
      "Moviepy - Building video output/complicated_func_effect.mp4.\n",
      "MoviePy - Writing audio in complicated_func_effectTEMP_MPY_wvf_snd.mp3\n"
     ]
    },
    {
     "name": "stderr",
     "output_type": "stream",
     "text": [
      "t:   0%|                                                                             | 0/300 [00:00<?, ?it/s, now=None]"
     ]
    },
    {
     "name": "stdout",
     "output_type": "stream",
     "text": [
      "MoviePy - Done.\n",
      "Moviepy - Writing video output/complicated_func_effect.mp4\n",
      "\n"
     ]
    },
    {
     "name": "stderr",
     "output_type": "stream",
     "text": [
      "                                                                                                                       \r"
     ]
    },
    {
     "name": "stdout",
     "output_type": "stream",
     "text": [
      "Moviepy - Done !\n",
      "Moviepy - video ready output/complicated_func_effect.mp4\n"
     ]
    }
   ],
   "source": [
    "#zapis do pliku\n",
    "#mod_clip.write_videofile(\"output/complicated_func_effect.mp4\")"
   ]
  },
  {
   "cell_type": "code",
   "execution_count": 64,
   "id": "3a83e5cf",
   "metadata": {},
   "outputs": [],
   "source": [
    "clip.close()\n",
    "mod_clip.close()\n",
    "music.close()"
   ]
  },
  {
   "cell_type": "markdown",
   "id": "330ad345",
   "metadata": {},
   "source": [
    "Jak widać, można uzyskać ciekawe efekty przy pomocy takich możliwościach biblioteki."
   ]
  },
  {
   "cell_type": "markdown",
   "id": "7101798f",
   "metadata": {},
   "source": [
    "### Modyfikowanie pojedynczych klatek "
   ]
  },
  {
   "cell_type": "markdown",
   "id": "6d38e0e1",
   "metadata": {},
   "source": [
    "##### Zamiana barwy czerwonej na niebieską"
   ]
  },
  {
   "cell_type": "code",
   "execution_count": null,
   "id": "841d5aa7",
   "metadata": {
    "scrolled": false
   },
   "outputs": [],
   "source": [
    "#ładowanie klipu\n",
    "clip = VideoFileClip(\"clips/tree1.avi\")\n",
    "\n",
    "def invert_red_to_blue(image):\n",
    "    return image[:,:,[2,1,2]]\n",
    "\n",
    "mod_clip = clip.fl_image(invert_red_to_blue)\n",
    "mod_clip.ipython_display(width=500)\n"
   ]
  },
  {
   "cell_type": "code",
   "execution_count": 76,
   "id": "29e0e564",
   "metadata": {},
   "outputs": [
    {
     "name": "stderr",
     "output_type": "stream",
     "text": [
      "chunk:   5%|███▌                                                             | 9/166 [00:00<00:01, 89.16it/s, now=None]"
     ]
    },
    {
     "name": "stdout",
     "output_type": "stream",
     "text": [
      "Moviepy - Building video output/red2blue.mp4.\n",
      "MoviePy - Writing audio in red2blueTEMP_MPY_wvf_snd.mp3\n"
     ]
    },
    {
     "name": "stderr",
     "output_type": "stream",
     "text": [
      "t:   2%|█▏                                                                   | 4/225 [00:00<00:05, 37.40it/s, now=None]"
     ]
    },
    {
     "name": "stdout",
     "output_type": "stream",
     "text": [
      "MoviePy - Done.\n",
      "Moviepy - Writing video output/red2blue.mp4\n",
      "\n"
     ]
    },
    {
     "name": "stderr",
     "output_type": "stream",
     "text": [
      "                                                                                                                       \r"
     ]
    },
    {
     "name": "stdout",
     "output_type": "stream",
     "text": [
      "Moviepy - Done !\n",
      "Moviepy - video ready output/red2blue.mp4\n"
     ]
    }
   ],
   "source": [
    "#zapis do pliku\n",
    "#mod_clip.write_videofile(\"output/red2blue.mp4\")"
   ]
  },
  {
   "cell_type": "code",
   "execution_count": 77,
   "id": "e2f898c9",
   "metadata": {},
   "outputs": [],
   "source": [
    "clip.close()\n",
    "mod_clip.close()\n",
    "music.close()"
   ]
  },
  {
   "cell_type": "markdown",
   "id": "d421be12",
   "metadata": {},
   "source": [
    " Film jest wyraźniej intesywniejszy w barwach zielonych."
   ]
  },
  {
   "cell_type": "markdown",
   "id": "f277042b",
   "metadata": {},
   "source": [
    "##### Nałożenie bluru poprzez bibliotekę CV2. "
   ]
  },
  {
   "cell_type": "code",
   "execution_count": null,
   "id": "ee7622bc",
   "metadata": {},
   "outputs": [],
   "source": [
    "#ładowanie klipu\n",
    "clip = VideoFileClip(\"clips/tree1.avi\")\n",
    "\n",
    "def effect(image):\n",
    "    new_image = image.copy()\n",
    "    gaussblur = cv.GaussianBlur(new_image,(5,5),0)\n",
    "    return gaussblur\n",
    "\n",
    "mod_clip = clip.fl_image(effect)\n",
    "mod_clip.ipython_display(width=500)\n"
   ]
  },
  {
   "cell_type": "code",
   "execution_count": 132,
   "id": "65e09d48",
   "metadata": {},
   "outputs": [
    {
     "name": "stderr",
     "output_type": "stream",
     "text": [
      "chunk:  14%|████████▋                                                      | 23/166 [00:00<00:00, 227.85it/s, now=None]"
     ]
    },
    {
     "name": "stdout",
     "output_type": "stream",
     "text": [
      "Moviepy - Building video output/gaussBlur.mp4.\n",
      "MoviePy - Writing audio in gaussBlurTEMP_MPY_wvf_snd.mp3\n"
     ]
    },
    {
     "name": "stderr",
     "output_type": "stream",
     "text": [
      "t:   2%|█▏                                                                   | 4/225 [00:00<00:05, 39.24it/s, now=None]"
     ]
    },
    {
     "name": "stdout",
     "output_type": "stream",
     "text": [
      "MoviePy - Done.\n",
      "Moviepy - Writing video output/gaussBlur.mp4\n",
      "\n"
     ]
    },
    {
     "name": "stderr",
     "output_type": "stream",
     "text": [
      "                                                                                                                       \r"
     ]
    },
    {
     "name": "stdout",
     "output_type": "stream",
     "text": [
      "Moviepy - Done !\n",
      "Moviepy - video ready output/gaussBlur.mp4\n"
     ]
    }
   ],
   "source": [
    "#zapis do pliku\n",
    "mod_clip.write_videofile(\"output/gaussBlur.mp4\")"
   ]
  },
  {
   "cell_type": "code",
   "execution_count": 134,
   "id": "6f0e844d",
   "metadata": {},
   "outputs": [],
   "source": [
    "clip.close()\n",
    "mod_clip.close()"
   ]
  },
  {
   "cell_type": "markdown",
   "id": "06d3cbf1",
   "metadata": {},
   "source": [
    "Jak widać można przechwytywać pojedyńczą klatkę filmu i dokonywać zmian na jej macierzy. Przydatne przy analizie danych."
   ]
  },
  {
   "cell_type": "markdown",
   "id": "27ac0ff0",
   "metadata": {},
   "source": [
    "##### Dodanie refleksyjnej ramki do klatki"
   ]
  },
  {
   "cell_type": "code",
   "execution_count": null,
   "id": "ad3303b8",
   "metadata": {},
   "outputs": [],
   "source": [
    "#ładowanie klipu\n",
    "clip = VideoFileClip(\"clips/mario.mp4\") \n",
    "\n",
    "def effect(image):\n",
    "    new_image = image.copy()\n",
    "    reflect = cv2.copyMakeBorder(new_image,40,40,40,40,cv2.BORDER_REFLECT)\n",
    "    return reflect\n",
    "\n",
    "mod_clip = clip.fl_image(effect)\n",
    "mod_clip.ipython_display(width=500)"
   ]
  },
  {
   "cell_type": "code",
   "execution_count": 140,
   "id": "13e0f1a1",
   "metadata": {
    "collapsed": true
   },
   "outputs": [
    {
     "name": "stderr",
     "output_type": "stream",
     "text": [
      "chunk:   1%|▎                                                                | 2/375 [00:00<00:20, 17.96it/s, now=None]"
     ]
    },
    {
     "name": "stdout",
     "output_type": "stream",
     "text": [
      "Moviepy - Building video output/mario-with-frame.mp4.\n",
      "MoviePy - Writing audio in mario-with-frameTEMP_MPY_wvf_snd.mp3\n"
     ]
    },
    {
     "name": "stderr",
     "output_type": "stream",
     "text": [
      "t:   1%|▍                                                                    | 3/510 [00:00<00:20, 25.24it/s, now=None]"
     ]
    },
    {
     "name": "stdout",
     "output_type": "stream",
     "text": [
      "MoviePy - Done.\n",
      "Moviepy - Writing video output/mario-with-frame.mp4\n",
      "\n"
     ]
    },
    {
     "name": "stderr",
     "output_type": "stream",
     "text": [
      "                                                                                                                       \r"
     ]
    },
    {
     "name": "stdout",
     "output_type": "stream",
     "text": [
      "Moviepy - Done !\n",
      "Moviepy - video ready output/mario-with-frame.mp4\n"
     ]
    }
   ],
   "source": [
    "#zapis do pliku\n",
    "#mod_clip.write_videofile(\"output/mario-with-frame.mp4\")"
   ]
  },
  {
   "cell_type": "code",
   "execution_count": 141,
   "id": "78e9f8e5",
   "metadata": {},
   "outputs": [],
   "source": [
    "clip.close()\n",
    "mod_clip.close()"
   ]
  },
  {
   "cell_type": "code",
   "execution_count": null,
   "id": "30c27744",
   "metadata": {},
   "outputs": [],
   "source": []
  }
 ],
 "metadata": {
  "kernelspec": {
   "display_name": "Python 3",
   "language": "python",
   "name": "python3"
  },
  "language_info": {
   "codemirror_mode": {
    "name": "ipython",
    "version": 3
   },
   "file_extension": ".py",
   "mimetype": "text/x-python",
   "name": "python",
   "nbconvert_exporter": "python",
   "pygments_lexer": "ipython3",
   "version": "3.8.5"
  }
 },
 "nbformat": 4,
 "nbformat_minor": 5
}
