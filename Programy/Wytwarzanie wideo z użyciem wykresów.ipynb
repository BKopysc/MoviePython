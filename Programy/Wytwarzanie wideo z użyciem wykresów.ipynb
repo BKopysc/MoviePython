{
 "cells": [
  {
   "cell_type": "markdown",
   "id": "192dfd5f",
   "metadata": {},
   "source": [
    "## Wytwarzanie wideo z użyciem wykresów"
   ]
  },
  {
   "cell_type": "code",
   "execution_count": 1,
   "id": "0c3d1bf6",
   "metadata": {},
   "outputs": [],
   "source": [
    "from moviepy.editor import *\n",
    "from moviepy.video.io.bindings import mplfig_to_npimage\n",
    "import numpy as np\n",
    "import matplotlib.pyplot as plt\n",
    "import random\n"
   ]
  },
  {
   "cell_type": "markdown",
   "id": "4ed63dc7",
   "metadata": {},
   "source": [
    "#### Tworzenie animacji pewnej funkcji z użyciem biblioteki numpy i zapis do pliku.gif"
   ]
  },
  {
   "cell_type": "code",
   "execution_count": null,
   "id": "8dec45be",
   "metadata": {},
   "outputs": [],
   "source": [
    "\n",
    "x = np.linspace(-4, 4, 150)\n",
    "duration = 4 #czas trwania w sekundach\n",
    "\n",
    "fig, ax = plt.subplots()\n",
    "def make_frame(t): #jako argument jest brany czas, co pozwala w każdej jednostce czasu przechwytywac nowo wygenerowany wykres\n",
    "    ax.clear()\n",
    "    ax.plot(x, np.sinc(x**2+t), lw=3) #stworzenie funkcji\n",
    "    ax.set_ylim(-0.5, 1.5)\n",
    "    return mplfig_to_npimage(fig)\n",
    "\n",
    "animation = VideoClip(make_frame, duration=duration)\n",
    "animation.ipython_display(fps=20, loop=True, autoplay=True)"
   ]
  },
  {
   "cell_type": "code",
   "execution_count": 31,
   "id": "1477918f",
   "metadata": {},
   "outputs": [
    {
     "name": "stderr",
     "output_type": "stream",
     "text": [
      "t:   2%|█▊                                                                    | 2/80 [00:00<00:05, 15.04it/s, now=None]"
     ]
    },
    {
     "name": "stdout",
     "output_type": "stream",
     "text": [
      "MoviePy - Building file output/active_wave.gif with imageio.\n"
     ]
    },
    {
     "name": "stderr",
     "output_type": "stream",
     "text": [
      "                                                                                                                       \r"
     ]
    }
   ],
   "source": [
    "animation.write_gif(\"output/active_wave.gif\", fps=20)"
   ]
  },
  {
   "cell_type": "code",
   "execution_count": 7,
   "id": "4783c6e9",
   "metadata": {},
   "outputs": [],
   "source": [
    "animation.close()"
   ]
  },
  {
   "cell_type": "markdown",
   "id": "6342f807",
   "metadata": {},
   "source": [
    "#### Rysowanie losowych wektorów do muzyki - teledysk"
   ]
  },
  {
   "cell_type": "code",
   "execution_count": null,
   "id": "e89eec00",
   "metadata": {},
   "outputs": [],
   "source": [
    "# załączenie modułów służących do odczytu i edycji muzyki\n",
    "import librosa "
   ]
  },
  {
   "cell_type": "code",
   "execution_count": null,
   "id": "2e43bc35",
   "metadata": {
    "scrolled": true
   },
   "outputs": [],
   "source": [
    "def make_frame(t): #jako argument jest brany czas, co pozwala w każdej jednostce czasu przechwytywac nowo wygenerowany wykres\n",
    "    global start_point\n",
    "    global beat_times\n",
    "    global beat_iterator\n",
    "\n",
    "#    ax.clear()\n",
    "#    start_point=[round(random.uniform(xy_range[0],xy_range[1]), 2), round(random.uniform(xy_range[0],xy_range[1]), 2)] \n",
    "    end_point=[round(random.uniform(xy_range[0],xy_range[1]), 2), round(random.uniform(xy_range[0],xy_range[1]), 2)]\n",
    "    dxy = np.subtract(end_point,start_point)\n",
    "      \n",
    "    if(beat_iterator < len(beat_times)):\n",
    "        check_beat = abs(beat_times[beat_iterator]-t)\n",
    "    else:\n",
    "        beat_iterator -= 2\n",
    "        check_beat = 0\n",
    "        \n",
    "    \n",
    "    red = round(random.uniform(0,1), 1)\n",
    "    green = round(random.uniform(0,1), 1)\n",
    "    blue = round(random.uniform(0,1), 1) \n",
    "    l_width = round(random.uniform(0,4), 2)\n",
    "\n",
    "    if (round(check_beat,2) <= 0.03): #ustawienie czułości doboru beatu\n",
    "        beat_iterator+=1\n",
    "        \n",
    "        if(beat_iterator%2 == 0):\n",
    "            max_val = xy_range[1]\n",
    "            wx1, wy1 = [0,0],[0,max_val]\n",
    "            wx2, wy2 = [0,max_val],[max_val,max_val]\n",
    "            wx3, wy3 = [max_val,max_val], [max_val, 0]\n",
    "            wx4, wy4 = [max_val,0], [0,0]\n",
    "            ax.plot(wx1, wy1, wx2, wy2, wx3,wy3,wx4,wy4, color = 'purple', lw = 10.0)\n",
    "        else:\n",
    "            ax.clear()\n",
    "            \n",
    "    ax.arrow(start_point[0], start_point[1], dxy[0], dxy[1],ec=(red, green, blue), lw=l_width)\n",
    "    \n",
    "    start_point = end_point\n",
    "    ax.set_ylim(xy_range[0],xy_range[1])\n",
    "    ax.set_xlim(xy_range[0],xy_range[1])\n",
    "    plt.axis('off')\n",
    "    fig.patch.set_facecolor(('black'))\n",
    "    times.append(t)\n",
    "\n",
    "    return mplfig_to_npimage(fig)\n",
    "\n",
    "fig, ax = plt.subplots() #rysowanie wykresu\n",
    "\n",
    "xy_range = [0,1000] #zakres rysowania wektorów\n",
    "times = []\n",
    "beat_iterator=0\n",
    "\n",
    "#losowe miejsce startu\n",
    "start_point=[round(random.uniform(xy_range[0],xy_range[1]), 2), round(random.uniform(xy_range[0],xy_range[1]), 2)] \n",
    "\n",
    "# odczyt muzyki w celu poznania rytmu\n",
    "x, sr = librosa.load('music/gravity_wav.wav') #do biblioteki librosa\n",
    "music = AudioFileClip(\"music/gravity_wav.wav\") #do moviepy\n",
    "music_duration = round(music.duration,2)\n",
    "\n",
    "# wyznaczenie rytmu\n",
    "# Można to rozwinąć i uzyskiwać lepsze wyniki przy pomocy uczenia maszynowego.\n",
    "\n",
    "tempo, beat_times = librosa.beat.beat_track(x, sr=sr, units='time')\n",
    "\n",
    "duration = music_duration #można skrócić\n",
    "animation = VideoClip(make_frame, duration=duration)\n",
    "#animation = animation.set_fps(20)\n",
    "animation = animation.set_audio(music).set_fps(15)\n",
    "\n",
    "animation.ipython_display(loop=True, autoplay=True, rate=5000)\n",
    "\n"
   ]
  },
  {
   "cell_type": "code",
   "execution_count": 74,
   "id": "213d7960",
   "metadata": {},
   "outputs": [],
   "source": [
    "#zapis do pliku\n",
    "#animation.write_videofile(\"output/rave.mp4\")"
   ]
  },
  {
   "cell_type": "code",
   "execution_count": 51,
   "id": "bd341fa2",
   "metadata": {},
   "outputs": [],
   "source": [
    "animation.close()\n",
    "music.close()"
   ]
  },
  {
   "cell_type": "markdown",
   "id": "d28d45e0",
   "metadata": {},
   "source": []
  },
  {
   "cell_type": "code",
   "execution_count": null,
   "id": "03883e7a",
   "metadata": {},
   "outputs": [],
   "source": []
  }
 ],
 "metadata": {
  "kernelspec": {
   "display_name": "Python 3",
   "language": "python",
   "name": "python3"
  },
  "language_info": {
   "codemirror_mode": {
    "name": "ipython",
    "version": 3
   },
   "file_extension": ".py",
   "mimetype": "text/x-python",
   "name": "python",
   "nbconvert_exporter": "python",
   "pygments_lexer": "ipython3",
   "version": "3.8.5"
  }
 },
 "nbformat": 4,
 "nbformat_minor": 5
}
