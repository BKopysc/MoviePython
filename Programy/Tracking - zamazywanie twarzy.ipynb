{
 "cells": [
  {
   "cell_type": "markdown",
   "id": "22784a46",
   "metadata": {},
   "source": [
    "## Śledzenie twarzy"
   ]
  },
  {
   "cell_type": "markdown",
   "id": "a842c358",
   "metadata": {},
   "source": [
    "### Ręczne śledzenie twarzy, wybranie kilku punktów"
   ]
  },
  {
   "cell_type": "code",
   "execution_count": 1,
   "id": "e028cce6",
   "metadata": {},
   "outputs": [],
   "source": [
    "from moviepy.editor import *\n",
    "from moviepy.video.tools.tracking import manual_tracking, Trajectory\n",
    "import numpy as np\n",
    "import cv2"
   ]
  },
  {
   "cell_type": "code",
   "execution_count": 17,
   "id": "bdb9eae9",
   "metadata": {},
   "outputs": [],
   "source": [
    "clip = VideoFileClip(\"clips/chaplin_cut.mp4\")\n",
    "clip = clip.subclip(3,10)"
   ]
  },
  {
   "cell_type": "code",
   "execution_count": 20,
   "id": "64c87d36",
   "metadata": {},
   "outputs": [],
   "source": [
    "# manualne \"trackowanie/śledzenie\" obiektu i zapis współrzendych do pliku\n",
    "# liczba fps klipu (np.24) powinna być podzielna przez liczbę fps trackowania (np.6). \n",
    "# Im więcej fps trackowania, tym częstszy zapis współrzędnych\n",
    "\n",
    "# manual_tracking(clip,fps=6,nobjects=1, savefile=\"trackings/track_chaplin2.txt\")"
   ]
  },
  {
   "cell_type": "code",
   "execution_count": 22,
   "id": "6efc89fb",
   "metadata": {},
   "outputs": [],
   "source": [
    "def object_tracked(get_frame, t):\n",
    "    global circle_radius\n",
    "    global iterator, traj1, clip_fps\n",
    "    global skipped_frame, num_of_skipped_frames\n",
    "    frame = get_frame(t)\n",
    "    new_image = frame.copy()\n",
    "    \n",
    "    x = None\n",
    "    y = None\n",
    "    tt = None\n",
    "    center_coordinates = None\n",
    "    \n",
    "    if(iterator >= len(traj1.tt)):\n",
    "        x = traj1.xx[iterator-1]\n",
    "        y = traj1.yy[iterator-1]\n",
    "        center_coordinates = (int(x), int(y))\n",
    "    else:\n",
    "        x = traj1.xx[iterator]\n",
    "        y = traj1.yy[iterator]\n",
    "        tt = traj1.tt[iterator]\n",
    "\n",
    "    \n",
    "    if center_coordinates == None:\n",
    "        t_calc = round(abs(t-tt),2)\n",
    "        if (t_calc < 0.02):\n",
    "            center_coordinates = (int(x), int(y))\n",
    "            skipped_frame = None\n",
    "            num_of_skipped_frames = None\n",
    "            iterator+=1\n",
    "        else:\n",
    "            prev_t = traj1.tt[iterator-1]\n",
    "            prev_x = traj1.xx[iterator-1]\n",
    "            prev_y = traj1.yy[iterator-1]\n",
    "\n",
    "            if skipped_frame == None:\n",
    "                num_of_skipped_frames = round((((tt-prev_t)*clip_fps)), 2)\n",
    "                skipped_frame = 1\n",
    "\n",
    "            shift_x = (x - prev_x)/num_of_skipped_frames * skipped_frame\n",
    "            shift_y = (y - prev_y)/num_of_skipped_frames * skipped_frame\n",
    "            current_x = prev_x + shift_x\n",
    "            current_y = prev_y + shift_y\n",
    "\n",
    "            skipped_frame += 1\n",
    "            center_coordinates = (int(current_x), int(current_y))\n",
    "        \n",
    "    circle_radius = 100\n",
    "    color = (255, 0, 0)\n",
    "    thickness = 10\n",
    "    new_image = cv2.circle(new_image, center_coordinates, circle_radius, color, thickness)\n",
    "    print(t,center_coordinates)\n",
    "    return new_image\n",
    "\n",
    "clip_fps = clip.fps\n",
    "skipped_frame = None\n",
    "num_of_skipped_frames = None\n",
    "iterator = 0\n",
    "traj1, = Trajectory.load_list('trackings/track_chaplin2.txt')\n",
    "\n",
    "clip_blurred = clip.fl(object_tracked)\n",
    "\n",
    "#clip_blurred.ipython_display(loop=True, autoplay=True, rate=5000, width = 400)"
   ]
  },
  {
   "cell_type": "code",
   "execution_count": 23,
   "id": "c6dc8dcd",
   "metadata": {},
   "outputs": [
    {
     "name": "stderr",
     "output_type": "stream",
     "text": [
      "t:   2%|█▏                                                                   | 3/168 [00:00<00:06, 26.10it/s, now=None]"
     ]
    },
    {
     "name": "stdout",
     "output_type": "stream",
     "text": [
      "Moviepy - Building video output/tracking_object.mp4.\n",
      "Moviepy - Writing video output/tracking_object.mp4\n",
      "\n"
     ]
    },
    {
     "name": "stderr",
     "output_type": "stream",
     "text": [
      "                                                                                                                       \r"
     ]
    },
    {
     "name": "stdout",
     "output_type": "stream",
     "text": [
      "Moviepy - Done !\n",
      "Moviepy - video ready output/tracking_object.mp4\n"
     ]
    }
   ],
   "source": [
    "#clip_blurred.write_videofile(\"output/tracking_object.mp4\")"
   ]
  },
  {
   "cell_type": "code",
   "execution_count": 21,
   "id": "f17516f2",
   "metadata": {},
   "outputs": [],
   "source": [
    "clip.close()\n",
    "clip_blurred.close()"
   ]
  },
  {
   "cell_type": "markdown",
   "id": "3b851e17",
   "metadata": {},
   "source": [
    "### Zamazywanie wykrytej twarzy"
   ]
  },
  {
   "cell_type": "code",
   "execution_count": 4,
   "id": "295acfbb",
   "metadata": {},
   "outputs": [],
   "source": [
    "clip = VideoFileClip(\"clips/chaplin_cut.mp4\")\n",
    "clip = clip.subclip(3,10)"
   ]
  },
  {
   "cell_type": "code",
   "execution_count": 6,
   "id": "e1432abc",
   "metadata": {},
   "outputs": [],
   "source": [
    "# manualne \"trackowanie/śledzenie\" obiektu i zapis współrzendych do pliku\n",
    "# liczba fps klipu (np.24) powinna być podzielna przez liczbę fps trackowania (np.6). \n",
    "# Im więcej fps trackowania, tym częstszy zapis współrzędnych\n",
    "#manual_tracking(clip,fps=6,nobjects=1, savefile=\"trackings/track_chaplin2.txt\")"
   ]
  },
  {
   "cell_type": "code",
   "execution_count": null,
   "id": "bd77b24c",
   "metadata": {},
   "outputs": [],
   "source": [
    "def blur_tracked(get_frame, t):\n",
    "    global circle_radius\n",
    "    global iterator, traj1, clip_fps\n",
    "    global skipped_frame, num_of_skipped_frames\n",
    "    frame = get_frame(t)\n",
    "    new_image = frame.copy()\n",
    "    \n",
    "    x = None\n",
    "    y = None\n",
    "    tt = None\n",
    "    center_coordinates = None\n",
    "    \n",
    "    if(iterator >= len(traj1.tt)):\n",
    "        x = traj1.xx[iterator-1]\n",
    "        y = traj1.yy[iterator-1]\n",
    "        center_coordinates = (int(x), int(y))\n",
    "    else:\n",
    "        x = traj1.xx[iterator]\n",
    "        y = traj1.yy[iterator]\n",
    "        tt = traj1.tt[iterator]\n",
    "\n",
    "    \n",
    "    if center_coordinates == None:\n",
    "        t_calc = round(abs(t-tt),2)\n",
    "        if (t_calc < 0.02):\n",
    "            center_coordinates = (int(x), int(y))\n",
    "            skipped_frame = None\n",
    "            num_of_skipped_frames = None\n",
    "            iterator+=1\n",
    "        else:\n",
    "            prev_t = traj1.tt[iterator-1]\n",
    "            prev_x = traj1.xx[iterator-1]\n",
    "            prev_y = traj1.yy[iterator-1]\n",
    "\n",
    "            if skipped_frame == None:\n",
    "                num_of_skipped_frames = round((((tt-prev_t)*clip_fps)), 2)\n",
    "                skipped_frame = 1\n",
    "\n",
    "            shift_x = (x - prev_x)/num_of_skipped_frames * skipped_frame\n",
    "            shift_y = (y - prev_y)/num_of_skipped_frames * skipped_frame\n",
    "            current_x = prev_x + shift_x\n",
    "            current_y = prev_y + shift_y\n",
    "\n",
    "            skipped_frame += 1\n",
    "            center_coordinates = (int(current_x), int(current_y))\n",
    "        \n",
    "    circle_radius = 100\n",
    "    color = (255, 255, 255)\n",
    "    thickness = -1\n",
    "    height,width,depth = new_image.shape\n",
    "    mask = np.zeros((height,width,depth), np.uint8)\n",
    "    mask = cv2.circle(mask, center_coordinates, circle_radius,(255,255,255), -1)\n",
    "    blur_img = cv2.blur(new_image,(25,25))\n",
    "    final_img = np.where(mask > 0, blur_img, new_image)\n",
    "    return final_img\n",
    "\n",
    "# Utworzenie zmiennych, które będą używane w metodzie\n",
    "\n",
    "clip_fps = clip.fps\n",
    "skipped_frame = None\n",
    "num_of_skipped_frames = None\n",
    "iterator = 0\n",
    "traj1, = Trajectory.load_list('trackings/track_chaplin2.txt')\n",
    "\n",
    "clip_blurred = clip.fl(blur_tracked)\n",
    "\n",
    "clip_blurred.ipython_display(loop=True, autoplay=True, rate=5000, width = 400)"
   ]
  },
  {
   "cell_type": "code",
   "execution_count": 27,
   "id": "5d2c5ee4",
   "metadata": {},
   "outputs": [
    {
     "name": "stderr",
     "output_type": "stream",
     "text": [
      "chunk:   1%|▊                                                                | 2/155 [00:00<00:09, 16.66it/s, now=None]"
     ]
    },
    {
     "name": "stdout",
     "output_type": "stream",
     "text": [
      "Moviepy - Building video output/tracking_blurred_object.mp4.\n",
      "MoviePy - Writing audio in tracking_blurred_objectTEMP_MPY_wvf_snd.mp3\n"
     ]
    },
    {
     "name": "stderr",
     "output_type": "stream",
     "text": [
      "t:   2%|█▋                                                                   | 4/168 [00:00<00:04, 34.96it/s, now=None]"
     ]
    },
    {
     "name": "stdout",
     "output_type": "stream",
     "text": [
      "MoviePy - Done.\n",
      "Moviepy - Writing video output/tracking_blurred_object.mp4\n",
      "\n"
     ]
    },
    {
     "name": "stderr",
     "output_type": "stream",
     "text": [
      "                                                                                                                       \r"
     ]
    },
    {
     "name": "stdout",
     "output_type": "stream",
     "text": [
      "Moviepy - Done !\n",
      "Moviepy - video ready output/tracking_blurred_object.mp4\n"
     ]
    }
   ],
   "source": [
    "#clip_blurred.write_videofile(\"output/tracking_blurred_object.mp4\")"
   ]
  },
  {
   "cell_type": "code",
   "execution_count": 29,
   "id": "8cd77b89",
   "metadata": {},
   "outputs": [],
   "source": [
    "clip.close()\n",
    "clip_blurred.close()"
   ]
  },
  {
   "cell_type": "markdown",
   "id": "debea515",
   "metadata": {},
   "source": [
    "### Test dla trackingu dla fps = 1"
   ]
  },
  {
   "cell_type": "code",
   "execution_count": 2,
   "id": "3247447e",
   "metadata": {},
   "outputs": [],
   "source": [
    "clip = VideoFileClip(\"clips/chaplin_cut.mp4\")\n",
    "clip = clip.subclip(3,10)"
   ]
  },
  {
   "cell_type": "code",
   "execution_count": 32,
   "id": "1081a29e",
   "metadata": {},
   "outputs": [
    {
     "data": {
      "text/plain": [
       "[<moviepy.video.tools.interpolators.Trajectory at 0x29473c83460>]"
      ]
     },
     "execution_count": 32,
     "metadata": {},
     "output_type": "execute_result"
    }
   ],
   "source": [
    "# manualne \"trackowanie/śledzenie\" obiektu i zapis współrzendych do pliku\n",
    "# liczba fps klipu (np.24) powinna być podzielna przez liczbę fps trackowania (np.6). \n",
    "# Im więcej fps trackowania, tym częstszy zapis współrzędnych\n",
    "\n",
    "#manual_tracking(clip,fps=1,nobjects=1, savefile=\"trackings/track_chaplin3.txt\")"
   ]
  },
  {
   "cell_type": "code",
   "execution_count": null,
   "id": "2e89d3cb",
   "metadata": {},
   "outputs": [],
   "source": [
    "def object_tracked(get_frame, t):\n",
    "    global circle_radius\n",
    "    global iterator, traj1, clip_fps\n",
    "    global skipped_frame, num_of_skipped_frames\n",
    "    frame = get_frame(t)\n",
    "    new_image = frame.copy()\n",
    "    \n",
    "    x = None\n",
    "    y = None\n",
    "    tt = None\n",
    "    center_coordinates = None\n",
    "    \n",
    "    if(iterator >= len(traj1.tt)):\n",
    "        x = traj1.xx[iterator-1]\n",
    "        y = traj1.yy[iterator-1]\n",
    "        center_coordinates = (int(x), int(y))\n",
    "    else:\n",
    "        x = traj1.xx[iterator]\n",
    "        y = traj1.yy[iterator]\n",
    "        tt = traj1.tt[iterator]\n",
    "\n",
    "    \n",
    "    if center_coordinates == None:\n",
    "        t_calc = round(abs(t-tt),2)\n",
    "        if (t_calc < 0.02):\n",
    "            center_coordinates = (int(x), int(y))\n",
    "            skipped_frame = None\n",
    "            num_of_skipped_frames = None\n",
    "            iterator+=1\n",
    "        else:\n",
    "            prev_t = traj1.tt[iterator-1]\n",
    "            prev_x = traj1.xx[iterator-1]\n",
    "            prev_y = traj1.yy[iterator-1]\n",
    "\n",
    "            if skipped_frame == None:\n",
    "                num_of_skipped_frames = round((((tt-prev_t)*clip_fps)), 2)\n",
    "                skipped_frame = 1\n",
    "\n",
    "            shift_x = (x - prev_x)/num_of_skipped_frames * skipped_frame\n",
    "            shift_y = (y - prev_y)/num_of_skipped_frames * skipped_frame\n",
    "            current_x = prev_x + shift_x\n",
    "            current_y = prev_y + shift_y\n",
    "\n",
    "            skipped_frame += 1\n",
    "            center_coordinates = (int(current_x), int(current_y))\n",
    "        \n",
    "    circle_radius = 100\n",
    "    color = (255, 0, 0)\n",
    "    thickness = 10\n",
    "    new_image = cv2.circle(new_image, center_coordinates, circle_radius, color, thickness)\n",
    "    print(t,center_coordinates)\n",
    "    return new_image\n",
    "\n",
    "clip_fps = clip.fps\n",
    "skipped_frame = None\n",
    "num_of_skipped_frames = None\n",
    "iterator = 0\n",
    "traj1, = Trajectory.load_list('trackings/track_chaplin3.txt')\n",
    "\n",
    "clip_blurred = clip.fl(object_tracked)\n",
    "\n",
    "clip_blurred.ipython_display(loop=True, autoplay=True, rate=5000, width = 400)"
   ]
  },
  {
   "cell_type": "code",
   "execution_count": null,
   "id": "b8c8106c",
   "metadata": {},
   "outputs": [],
   "source": []
  }
 ],
 "metadata": {
  "kernelspec": {
   "display_name": "Python 3",
   "language": "python",
   "name": "python3"
  },
  "language_info": {
   "codemirror_mode": {
    "name": "ipython",
    "version": 3
   },
   "file_extension": ".py",
   "mimetype": "text/x-python",
   "name": "python",
   "nbconvert_exporter": "python",
   "pygments_lexer": "ipython3",
   "version": "3.8.5"
  }
 },
 "nbformat": 4,
 "nbformat_minor": 5
}
