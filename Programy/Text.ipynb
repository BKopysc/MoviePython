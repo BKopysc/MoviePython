{
 "cells": [
  {
   "cell_type": "markdown",
   "id": "59f654fb",
   "metadata": {},
   "source": [
    "# Przykładowe użycia narzędzia MoviePy"
   ]
  },
  {
   "cell_type": "markdown",
   "id": "98a49c99",
   "metadata": {},
   "source": [
    "## Nakładanie tekstu na wideo"
   ]
  },
  {
   "cell_type": "markdown",
   "id": "215aafaf",
   "metadata": {},
   "source": [
    "#### Prosty tekst"
   ]
  },
  {
   "cell_type": "code",
   "execution_count": 1,
   "id": "de8a5baa",
   "metadata": {},
   "outputs": [],
   "source": [
    "from moviepy.editor import *"
   ]
  },
  {
   "cell_type": "code",
   "execution_count": null,
   "id": "9b4ac3f5",
   "metadata": {},
   "outputs": [],
   "source": [
    "#ładowanie klipu\n",
    "clip = VideoFileClip(\"clips/tree1.avi\")\n",
    "\n",
    "#Dodatnie tekstu\n",
    "txt = TextClip(\"Test\", fontsize=70, color='white')\n",
    "txt = txt.set_pos('center').set_duration(clip.duration)\n",
    "video = CompositeVideoClip([clip,txt])\n",
    "\n",
    "#clip.preview() # wyświetla podgląd w oknie\n",
    "\n",
    "video.ipython_display(width=300) \n",
    "# załączenie filmu do Notebooka wymaga doinstalowania programu"
   ]
  },
  {
   "cell_type": "code",
   "execution_count": 11,
   "id": "766fde1d",
   "metadata": {},
   "outputs": [],
   "source": [
    "#zapis filmu do pliku, należy odkomentować,aby zapisać\n",
    "video.write_videofile(\"output/text_simple.mp4\") "
   ]
  },
  {
   "cell_type": "code",
   "execution_count": 24,
   "id": "7817c958",
   "metadata": {},
   "outputs": [],
   "source": [
    "#zamknięcie, aby program/kodek przestał blokować pliki\n",
    "txt.close()\n",
    "video.close()\n",
    "clip.close()"
   ]
  },
  {
   "cell_type": "markdown",
   "id": "2daeaa2a",
   "metadata": {},
   "source": [
    "#### Zaawansowany tekst"
   ]
  },
  {
   "cell_type": "code",
   "execution_count": null,
   "id": "d062368d",
   "metadata": {},
   "outputs": [],
   "source": [
    "from moviepy.editor import *\n",
    "\n",
    "\n",
    "#ładowanie klipu\n",
    "clip = VideoFileClip(\"clips/tree2.mp4\")\n",
    "\n",
    "#Dodatnie tekstu\n",
    "first_txt = TextClip(\"Ładna pogoda\", font='Comic-Sans-MS', fontsize=90, color='white')\n",
    "first_txt = first_txt.set_pos('center').set_start(0).set_end(5)\n",
    "\n",
    "second_txt = TextClip(\"Nadchodzi lato\", font='Georgia-Bold', fontsize=120, color='orange')\n",
    "second_txt = second_txt.set_pos('center').set_start(6).set_end(clip.duration)\n",
    "\n",
    "video = CompositeVideoClip([clip,first_txt, second_txt])\n",
    "\n",
    "video.ipython_display(t=8) #wygenerowanie snapshot-a z 8 sekundy filmu\n",
    "\n",
    "video.ipython_display(width=500) # wygenerowany film jest załączany do notebook-a"
   ]
  },
  {
   "cell_type": "code",
   "execution_count": 14,
   "id": "c551b22c",
   "metadata": {},
   "outputs": [],
   "source": [
    "# zapis filmu do pliku, należy odkomentować,aby zapisać. \n",
    "video.write_videofile(\"output/text-extended.mp4\") "
   ]
  },
  {
   "cell_type": "code",
   "execution_count": 15,
   "id": "4e4e2215",
   "metadata": {},
   "outputs": [],
   "source": [
    "#zamknięcie, aby program/kodek przestał blokować pliki\n",
    "first_txt.close()\n",
    "second_txt.close()\n",
    "video.close() \n",
    "clip.close()"
   ]
  }
 ],
 "metadata": {
  "kernelspec": {
   "display_name": "Python 3",
   "language": "python",
   "name": "python3"
  },
  "language_info": {
   "codemirror_mode": {
    "name": "ipython",
    "version": 3
   },
   "file_extension": ".py",
   "mimetype": "text/x-python",
   "name": "python",
   "nbconvert_exporter": "python",
   "pygments_lexer": "ipython3",
   "version": "3.8.5"
  }
 },
 "nbformat": 4,
 "nbformat_minor": 5
}
