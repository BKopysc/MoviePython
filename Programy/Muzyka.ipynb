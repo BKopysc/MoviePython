{
 "cells": [
  {
   "cell_type": "markdown",
   "id": "92e55482",
   "metadata": {},
   "source": [
    "## Edycja muzyki z wideo"
   ]
  },
  {
   "cell_type": "markdown",
   "id": "f4f81443",
   "metadata": {},
   "source": [
    "#### Proste dodanie muzyki"
   ]
  },
  {
   "cell_type": "code",
   "execution_count": 1,
   "id": "0af1e207",
   "metadata": {},
   "outputs": [],
   "source": [
    "from moviepy.editor import *"
   ]
  },
  {
   "cell_type": "code",
   "execution_count": null,
   "id": "64fe75d6",
   "metadata": {},
   "outputs": [],
   "source": [
    "#ładowanie klipu\n",
    "clip = VideoFileClip(\"clips/tree1.avi\")\n",
    "\n",
    "#ładowanie muzyki\n",
    "music = AudioFileClip(\"music/summer_music.mp3\").set_duration(clip.duration)\n",
    "\n",
    "clip = clip.set_audio(music)\n",
    "clip.ipython_display(width=500) "
   ]
  },
  {
   "cell_type": "code",
   "execution_count": 3,
   "id": "172907e5",
   "metadata": {},
   "outputs": [
    {
     "name": "stderr",
     "output_type": "stream",
     "text": [
      "chunk:   1%|▉                                                                             | 2/166 [00:00<00:12, 13.44it/s, now=None]"
     ]
    },
    {
     "name": "stdout",
     "output_type": "stream",
     "text": [
      "Moviepy - Building video output/audiovideo_simple.mp4.\n",
      "MoviePy - Writing audio in audiovideo_simpleTEMP_MPY_wvf_snd.mp3\n"
     ]
    },
    {
     "name": "stderr",
     "output_type": "stream",
     "text": [
      "t:   1%|▋                                                                                 | 2/225 [00:00<00:12, 17.24it/s, now=None]"
     ]
    },
    {
     "name": "stdout",
     "output_type": "stream",
     "text": [
      "MoviePy - Done.\n",
      "Moviepy - Writing video output/audiovideo_simple.mp4\n",
      "\n"
     ]
    },
    {
     "name": "stderr",
     "output_type": "stream",
     "text": [
      "                                                                                                                                    \r"
     ]
    },
    {
     "name": "stdout",
     "output_type": "stream",
     "text": [
      "Moviepy - Done !\n",
      "Moviepy - video ready output/audiovideo_simple.mp4\n"
     ]
    }
   ],
   "source": [
    "# zapis filmu do pliku, należy odkomentować,aby zapisać\n",
    "clip.write_videofile(\"output/audiovideo_simple.mp4\") "
   ]
  },
  {
   "cell_type": "code",
   "execution_count": 4,
   "id": "9b0451c2",
   "metadata": {},
   "outputs": [],
   "source": [
    "clip.close()\n",
    "music.close()"
   ]
  },
  {
   "cell_type": "markdown",
   "id": "cade6408",
   "metadata": {},
   "source": [
    "#### Bardziej zaawansowana edycja muzyki z wideo"
   ]
  },
  {
   "cell_type": "markdown",
   "id": "904f37bc",
   "metadata": {},
   "source": [
    "Klip wideo zawiera własny dźwięk, a dwie ścieżki muzyczne są jako tło (następuję zmiana muzyki w środku filmu)."
   ]
  },
  {
   "cell_type": "code",
   "execution_count": null,
   "id": "45613a7d",
   "metadata": {},
   "outputs": [],
   "source": [
    "#ładowanie klipu\n",
    "clip = VideoFileClip(\"clips/street1.mp4\")\n",
    "\n",
    "clip_duration = clip.duration\n",
    "\n",
    "#ładowanie muzyki\n",
    "music1 = AudioFileClip(\"music/lazy_walk.mp3\").set_start(0).set_end(round(clip_duration/2))\n",
    "music1 = music1.audio_fadeout(2) #efekt sciszenia\n",
    "music2 = AudioFileClip(\"music/brasil_guitar.mp3\").set_start(round(clip_duration/2)).set_end(clip_duration)\n",
    "music2 = music2.audio_fadein(2) #efekt wzmocnienia\n",
    "clip_music = clip.audio\n",
    "\n",
    "audio_composite = CompositeAudioClip([clip_music, music1, music2])\n",
    "clip = clip.set_audio(audio_composite)\n",
    "clip.ipython_display(width=500) "
   ]
  },
  {
   "cell_type": "code",
   "execution_count": 9,
   "id": "54ec285b",
   "metadata": {},
   "outputs": [],
   "source": [
    "clip.close()\n",
    "music1.close()\n",
    "music2.close()\n",
    "audio_composite.close()"
   ]
  }
 ],
 "metadata": {
  "kernelspec": {
   "display_name": "Python 3",
   "language": "python",
   "name": "python3"
  },
  "language_info": {
   "codemirror_mode": {
    "name": "ipython",
    "version": 3
   },
   "file_extension": ".py",
   "mimetype": "text/x-python",
   "name": "python",
   "nbconvert_exporter": "python",
   "pygments_lexer": "ipython3",
   "version": "3.8.5"
  }
 },
 "nbformat": 4,
 "nbformat_minor": 5
}
