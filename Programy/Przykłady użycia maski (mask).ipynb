{
 "cells": [
  {
   "cell_type": "markdown",
   "id": "a562be34",
   "metadata": {},
   "source": [
    "## Użycie masek"
   ]
  },
  {
   "cell_type": "markdown",
   "id": "cf8bd942",
   "metadata": {},
   "source": [
    "### Użycie maski do przykrycia napisów"
   ]
  },
  {
   "cell_type": "code",
   "execution_count": 1,
   "id": "e50e3c8d",
   "metadata": {},
   "outputs": [],
   "source": [
    "from moviepy.editor import *\n",
    "from moviepy.video.tools.credits import credits1\n",
    "from moviepy.video.tools.segmenting import findObjects"
   ]
  },
  {
   "cell_type": "code",
   "execution_count": 2,
   "id": "32e53383",
   "metadata": {},
   "outputs": [
    {
     "name": "stdout",
     "output_type": "stream",
     "text": [
      "15.7\n"
     ]
    }
   ],
   "source": [
    "clip = VideoFileClip(\"clips/sunset.mp4\", audio=False)\n",
    "music = AudioFileClip(\"music/lazy_walk.mp3\").set_duration(clip.duration)\n",
    "mask = ImageClip(\"images/sunset_mask.png\",ismask=True)\n",
    "\n",
    "#words = TextClip(\"text/lorem.txt\").set_duration(clip.duration)\n",
    "words = credits1(\"text/credits_simple.txt\", 3*clip.w/4)\n",
    "scrolling_word = words.set_pos(lambda t:('left',-100*t))\n",
    "#scrolling_word = scrolling_word.vx(vfx.speedx,4)\n",
    "final = CompositeVideoClip([clip, scrolling_word, clip.set_mask(mask)])\n",
    "final = final.set_duration(clip.duration)\n",
    "final = final.set_audio(music)\n",
    "final.ipython_display(width = 400)"
   ]
  },
  {
   "cell_type": "code",
   "execution_count": 33,
   "id": "39676778",
   "metadata": {},
   "outputs": [
    {
     "name": "stderr",
     "output_type": "stream",
     "text": [
      "chunk:   1%|▎                                                                | 2/347 [00:00<00:22, 15.39it/s, now=None]"
     ]
    },
    {
     "name": "stdout",
     "output_type": "stream",
     "text": [
      "Moviepy - Building video output/masked_credits.mp4.\n",
      "MoviePy - Writing audio in masked_creditsTEMP_MPY_wvf_snd.mp3\n"
     ]
    },
    {
     "name": "stderr",
     "output_type": "stream",
     "text": [
      "t:   0%|                                                                             | 0/393 [00:00<?, ?it/s, now=None]"
     ]
    },
    {
     "name": "stdout",
     "output_type": "stream",
     "text": [
      "MoviePy - Done.\n",
      "Moviepy - Writing video output/masked_credits.mp4\n",
      "\n"
     ]
    },
    {
     "name": "stderr",
     "output_type": "stream",
     "text": [
      "                                                                                                                       \r"
     ]
    },
    {
     "name": "stdout",
     "output_type": "stream",
     "text": [
      "Moviepy - Done !\n",
      "Moviepy - video ready output/masked_credits.mp4\n"
     ]
    }
   ],
   "source": [
    "#zapis do pliku\n",
    "final.write_videofile(\"output/masked_credits.mp4\", threads=2)"
   ]
  },
  {
   "cell_type": "code",
   "execution_count": null,
   "id": "b214b4c7",
   "metadata": {},
   "outputs": [],
   "source": []
  },
  {
   "cell_type": "markdown",
   "id": "aa1e1586",
   "metadata": {},
   "source": [
    "### Użycie maski do oddzielenia kilku klipów"
   ]
  },
  {
   "cell_type": "code",
   "execution_count": 32,
   "id": "a66824b7",
   "metadata": {},
   "outputs": [
    {
     "name": "stderr",
     "output_type": "stream",
     "text": [
      "t:   1%|▉                                                                    | 2/150 [08:23<00:07, 19.63it/s, now=None]\n",
      "t:   0%|                                                                             | 0/150 [00:00<?, ?it/s, now=None]\u001b[A\n",
      "t:   2%|█▍                                                                   | 3/150 [00:00<00:07, 20.70it/s, now=None]\u001b[A"
     ]
    },
    {
     "name": "stdout",
     "output_type": "stream",
     "text": [
      "Moviepy - Building video output/composed_film3.mp4.\n",
      "Moviepy - Writing video output/composed_film3.mp4\n",
      "\n"
     ]
    },
    {
     "name": "stderr",
     "output_type": "stream",
     "text": [
      "\n",
      "t:   3%|██▎                                                                  | 5/150 [00:00<00:07, 19.76it/s, now=None]\u001b[A\n",
      "t:   5%|███▏                                                                 | 7/150 [00:00<00:07, 18.93it/s, now=None]\u001b[A\n",
      "t:   6%|████▏                                                                | 9/150 [00:00<00:07, 18.76it/s, now=None]\u001b[A\n",
      "t:   7%|████▉                                                               | 11/150 [00:00<00:07, 18.26it/s, now=None]\u001b[A\n",
      "t:   9%|█████▉                                                              | 13/150 [00:00<00:08, 16.69it/s, now=None]\u001b[A\n",
      "t:  10%|██████▊                                                             | 15/150 [00:00<00:08, 16.56it/s, now=None]\u001b[A\n",
      "t:  11%|███████▋                                                            | 17/150 [00:00<00:07, 16.72it/s, now=None]\u001b[A\n",
      "t:  13%|████████▌                                                           | 19/150 [00:01<00:07, 17.43it/s, now=None]\u001b[A\n",
      "t:  14%|█████████▌                                                          | 21/150 [00:01<00:07, 17.16it/s, now=None]\u001b[A\n",
      "t:  15%|██████████▍                                                         | 23/150 [00:01<00:07, 17.05it/s, now=None]\u001b[A\n",
      "t:  17%|███████████▎                                                        | 25/150 [00:01<00:07, 16.98it/s, now=None]\u001b[A\n",
      "t:  18%|████████████▏                                                       | 27/150 [00:01<00:07, 16.95it/s, now=None]\u001b[A\n",
      "t:  19%|█████████████▏                                                      | 29/150 [00:01<00:07, 17.26it/s, now=None]\u001b[A\n",
      "t:  21%|██████████████                                                      | 31/150 [00:01<00:06, 17.67it/s, now=None]\u001b[A\n",
      "t:  22%|██████████████▉                                                     | 33/150 [00:01<00:06, 17.54it/s, now=None]\u001b[A\n",
      "t:  23%|███████████████▊                                                    | 35/150 [00:01<00:06, 18.12it/s, now=None]\u001b[A\n",
      "t:  25%|████████████████▊                                                   | 37/150 [00:02<00:06, 17.61it/s, now=None]\u001b[A\n",
      "t:  26%|█████████████████▋                                                  | 39/150 [00:02<00:07, 15.80it/s, now=None]\u001b[A\n",
      "t:  27%|██████████████████▌                                                 | 41/150 [00:02<00:07, 13.85it/s, now=None]\u001b[A\n",
      "t:  29%|███████████████████▍                                                | 43/150 [00:02<00:08, 13.37it/s, now=None]\u001b[A\n",
      "t:  30%|████████████████████▍                                               | 45/150 [00:02<00:07, 14.18it/s, now=None]\u001b[A\n",
      "t:  31%|█████████████████████▎                                              | 47/150 [00:02<00:06, 14.91it/s, now=None]\u001b[A\n",
      "t:  33%|██████████████████████▏                                             | 49/150 [00:02<00:06, 15.70it/s, now=None]\u001b[A\n",
      "t:  34%|███████████████████████                                             | 51/150 [00:03<00:05, 16.54it/s, now=None]\u001b[A\n",
      "t:  35%|████████████████████████                                            | 53/150 [00:03<00:05, 17.15it/s, now=None]\u001b[A\n",
      "t:  37%|████████████████████████▉                                           | 55/150 [00:03<00:05, 17.48it/s, now=None]\u001b[A\n",
      "t:  38%|█████████████████████████▊                                          | 57/150 [00:03<00:05, 17.55it/s, now=None]\u001b[A\n",
      "t:  39%|██████████████████████████▋                                         | 59/150 [00:03<00:05, 17.79it/s, now=None]\u001b[A\n",
      "t:  41%|███████████████████████████▋                                        | 61/150 [00:03<00:05, 17.74it/s, now=None]\u001b[A\n",
      "t:  42%|████████████████████████████▌                                       | 63/150 [00:03<00:04, 17.87it/s, now=None]\u001b[A\n",
      "t:  43%|█████████████████████████████▍                                      | 65/150 [00:03<00:04, 17.73it/s, now=None]\u001b[A\n",
      "t:  45%|██████████████████████████████▎                                     | 67/150 [00:03<00:04, 17.67it/s, now=None]\u001b[A\n",
      "t:  46%|███████████████████████████████▎                                    | 69/150 [00:04<00:04, 17.14it/s, now=None]\u001b[A\n",
      "t:  47%|████████████████████████████████▏                                   | 71/150 [00:04<00:04, 16.57it/s, now=None]\u001b[A\n",
      "t:  49%|█████████████████████████████████                                   | 73/150 [00:04<00:04, 15.97it/s, now=None]\u001b[A\n",
      "t:  50%|██████████████████████████████████                                  | 75/150 [00:04<00:04, 16.40it/s, now=None]\u001b[A\n",
      "t:  51%|██████████████████████████████████▉                                 | 77/150 [00:04<00:04, 16.44it/s, now=None]\u001b[A\n",
      "t:  53%|███████████████████████████████████▊                                | 79/150 [00:04<00:04, 16.80it/s, now=None]\u001b[A\n",
      "t:  54%|████████████████████████████████████▋                               | 81/150 [00:04<00:04, 16.97it/s, now=None]\u001b[A\n",
      "t:  55%|█████████████████████████████████████▋                              | 83/150 [00:04<00:03, 16.88it/s, now=None]\u001b[A\n",
      "t:  57%|██████████████████████████████████████▌                             | 85/150 [00:05<00:03, 17.57it/s, now=None]\u001b[A\n",
      "t:  58%|███████████████████████████████████████▍                            | 87/150 [00:05<00:03, 17.56it/s, now=None]\u001b[A\n",
      "t:  59%|████████████████████████████████████████▎                           | 89/150 [00:05<00:03, 17.02it/s, now=None]\u001b[A\n",
      "t:  61%|█████████████████████████████████████████▎                          | 91/150 [00:05<00:03, 17.03it/s, now=None]\u001b[A\n",
      "t:  62%|██████████████████████████████████████████▏                         | 93/150 [00:05<00:03, 16.97it/s, now=None]\u001b[A\n",
      "t:  63%|███████████████████████████████████████████                         | 95/150 [00:05<00:03, 17.10it/s, now=None]\u001b[A\n",
      "t:  65%|███████████████████████████████████████████▉                        | 97/150 [00:05<00:03, 16.59it/s, now=None]\u001b[A\n",
      "t:  66%|████████████████████████████████████████████▉                       | 99/150 [00:05<00:03, 16.49it/s, now=None]\u001b[A\n",
      "t:  67%|█████████████████████████████████████████████                      | 101/150 [00:05<00:02, 17.14it/s, now=None]\u001b[A\n",
      "t:  69%|██████████████████████████████████████████████                     | 103/150 [00:06<00:02, 17.68it/s, now=None]\u001b[A\n",
      "t:  70%|██████████████████████████████████████████████▉                    | 105/150 [00:06<00:02, 17.38it/s, now=None]\u001b[A\n",
      "t:  71%|███████████████████████████████████████████████▊                   | 107/150 [00:06<00:02, 17.55it/s, now=None]\u001b[A\n",
      "t:  73%|████████████████████████████████████████████████▋                  | 109/150 [00:06<00:02, 17.74it/s, now=None]\u001b[A\n",
      "t:  74%|█████████████████████████████████████████████████▌                 | 111/150 [00:06<00:02, 17.84it/s, now=None]\u001b[A\n",
      "t:  75%|██████████████████████████████████████████████████▍                | 113/150 [00:06<00:02, 17.82it/s, now=None]\u001b[A\n",
      "t:  77%|███████████████████████████████████████████████████▎               | 115/150 [00:06<00:01, 17.93it/s, now=None]\u001b[A\n",
      "t:  78%|████████████████████████████████████████████████████▎              | 117/150 [00:06<00:01, 17.26it/s, now=None]\u001b[A\n",
      "t:  79%|█████████████████████████████████████████████████████▏             | 119/150 [00:07<00:01, 17.58it/s, now=None]\u001b[A\n",
      "t:  81%|██████████████████████████████████████████████████████             | 121/150 [00:07<00:01, 17.95it/s, now=None]\u001b[A\n",
      "t:  82%|██████████████████████████████████████████████████████▉            | 123/150 [00:07<00:01, 17.69it/s, now=None]\u001b[A\n",
      "t:  83%|███████████████████████████████████████████████████████▊           | 125/150 [00:07<00:01, 17.74it/s, now=None]\u001b[A\n",
      "t:  85%|████████████████████████████████████████████████████████▋          | 127/150 [00:07<00:01, 17.87it/s, now=None]\u001b[A\n",
      "t:  86%|█████████████████████████████████████████████████████████▌         | 129/150 [00:07<00:01, 17.57it/s, now=None]\u001b[A\n",
      "t:  87%|██████████████████████████████████████████████████████████▌        | 131/150 [00:07<00:01, 17.70it/s, now=None]\u001b[A\n",
      "t:  89%|███████████████████████████████████████████████████████████▍       | 133/150 [00:07<00:00, 17.75it/s, now=None]\u001b[A\n",
      "t:  90%|████████████████████████████████████████████████████████████▎      | 135/150 [00:07<00:00, 17.24it/s, now=None]\u001b[A\n",
      "t:  91%|█████████████████████████████████████████████████████████████▏     | 137/150 [00:08<00:00, 17.94it/s, now=None]\u001b[A\n",
      "t:  93%|██████████████████████████████████████████████████████████████     | 139/150 [00:08<00:00, 17.96it/s, now=None]\u001b[A\n",
      "t:  94%|██████████████████████████████████████████████████████████████▉    | 141/150 [00:08<00:00, 18.28it/s, now=None]\u001b[A\n",
      "t:  95%|███████████████████████████████████████████████████████████████▊   | 143/150 [00:08<00:00, 18.51it/s, now=None]\u001b[A\n",
      "t:  97%|████████████████████████████████████████████████████████████████▊  | 145/150 [00:08<00:00, 18.32it/s, now=None]\u001b[A\n",
      "t:  98%|█████████████████████████████████████████████████████████████████▋ | 147/150 [00:08<00:00, 17.74it/s, now=None]\u001b[A\n",
      "t:  99%|██████████████████████████████████████████████████████████████████▌| 149/150 [00:08<00:00, 17.77it/s, now=None]\u001b[A\n",
      "t:   1%|▉                                                                    | 2/150 [08:31<00:07, 19.63it/s, now=None]\u001b[A"
     ]
    },
    {
     "name": "stdout",
     "output_type": "stream",
     "text": [
      "Moviepy - Done !\n",
      "Moviepy - video ready output/composed_film3.mp4\n"
     ]
    }
   ],
   "source": [
    "mask = ImageClip(\"images/video_mask3.png\")\n",
    "\n",
    "# zlokalizowanie objektów\n",
    "regions = findObjects(mask)\n",
    "\n",
    "clips = [VideoFileClip(n, audio=False).subclip(0,5) for n in\n",
    "     [ \"clips/street1.mp4\",\n",
    "        \"clips/tree1.mp4\"]]\n",
    "\n",
    "compose_clips =  [c.resize(r.size)\n",
    "                   .set_mask(r.mask)\n",
    "                   .set_pos(r.screenpos)\n",
    "                  for c,r in zip(clips,regions)]\n",
    "\n",
    "final = CompositeVideoClip(compose_clips,mask.size)\n",
    "final.ipython_display(width = 400)"
   ]
  },
  {
   "cell_type": "code",
   "execution_count": 40,
   "id": "10a03e35",
   "metadata": {},
   "outputs": [
    {
     "name": "stderr",
     "output_type": "stream",
     "text": [
      "t:   1%|▉                                                                    | 2/150 [00:00<00:09, 16.27it/s, now=None]"
     ]
    },
    {
     "name": "stdout",
     "output_type": "stream",
     "text": [
      "Moviepy - Building video output/mask_composed_film.mp4.\n",
      "Moviepy - Writing video output/mask_composed_film.mp4\n",
      "\n"
     ]
    },
    {
     "name": "stderr",
     "output_type": "stream",
     "text": [
      "                                                                                                                       \r"
     ]
    },
    {
     "name": "stdout",
     "output_type": "stream",
     "text": [
      "Moviepy - Done !\n",
      "Moviepy - video ready output/mask_composed_film.mp4\n"
     ]
    }
   ],
   "source": [
    "final.write_videofile(\"output/composed_film3.mp4\", codec='mpeg4', bitrate=\"10000k\") #domyślny kodek nie działa"
   ]
  },
  {
   "cell_type": "code",
   "execution_count": 33,
   "id": "7f002c2f",
   "metadata": {},
   "outputs": [],
   "source": [
    "for c in clips:\n",
    "    c.close()\n",
    "final.close()"
   ]
  },
  {
   "cell_type": "code",
   "execution_count": null,
   "id": "a7209e2e",
   "metadata": {},
   "outputs": [],
   "source": []
  }
 ],
 "metadata": {
  "kernelspec": {
   "display_name": "Python 3",
   "language": "python",
   "name": "python3"
  },
  "language_info": {
   "codemirror_mode": {
    "name": "ipython",
    "version": 3
   },
   "file_extension": ".py",
   "mimetype": "text/x-python",
   "name": "python",
   "nbconvert_exporter": "python",
   "pygments_lexer": "ipython3",
   "version": "3.8.5"
  }
 },
 "nbformat": 4,
 "nbformat_minor": 5
}
