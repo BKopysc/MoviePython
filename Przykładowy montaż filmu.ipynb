{
 "cells": [
  {
   "cell_type": "markdown",
   "id": "26a12ef7",
   "metadata": {},
   "source": [
    "## Przykładowy montaż filmu"
   ]
  },
  {
   "cell_type": "code",
   "execution_count": 2,
   "id": "db59b54f",
   "metadata": {},
   "outputs": [],
   "source": [
    "from moviepy.editor import *\n",
    "from os import listdir\n",
    "from os.path import isfile, join\n",
    "from moviepy.video.tools.segmenting import findObjects\n",
    "import numpy as np"
   ]
  },
  {
   "cell_type": "code",
   "execution_count": 3,
   "id": "5a5ccc93",
   "metadata": {},
   "outputs": [
    {
     "name": "stdout",
     "output_type": "stream",
     "text": [
      "0 : my_street_film/clips/MVI_7176.AVI\n",
      "1 : my_street_film/clips/MVI_7177.AVI\n",
      "2 : my_street_film/clips/MVI_7179.AVI\n",
      "3 : my_street_film/clips/MVI_7182.AVI\n",
      "4 : my_street_film/clips/MVI_7183.AVI\n",
      "5 : my_street_film/clips/MVI_7184.AVI\n",
      "6 : my_street_film/clips/MVI_7185.AVI\n",
      "7 : my_street_film/clips/MVI_7186.AVI\n",
      "8 : my_street_film/clips/MVI_7188.AVI\n",
      "9 : my_street_film/clips/MVI_7190.AVI\n",
      "10 : my_street_film/clips/MVI_7191.AVI\n",
      "11 : my_street_film/clips/MVI_7197.AVI\n",
      "12 : my_street_film/clips/MVI_7198.AVI\n",
      "13 : my_street_film/clips/MVI_7202.AVI\n",
      "14 : my_street_film/clips/MVI_7205.AVI\n"
     ]
    }
   ],
   "source": [
    "#Załadowanie wszystkich klipów z folderu, warto znać ich kolejność\n",
    "clip_path = \"my_street_film/clips/\"\n",
    "files = [f for f in listdir(clip_path)]\n",
    "files = [clip_path + f for f in files]\n",
    "i=0\n",
    "for n in files:\n",
    "    print(i,\":\",n)\n",
    "    i+=1\n",
    "multi_clips = [VideoFileClip(n) for n in files]"
   ]
  },
  {
   "cell_type": "code",
   "execution_count": 14,
   "id": "2be91f2c",
   "metadata": {},
   "outputs": [],
   "source": [
    "scene1_road = multi_clips[5].subclip(2,4).set_start(0)\n",
    "scene1_lantern = multi_clips[10].subclip(6,8).set_start(scene1_road.end)\n",
    "scene1_grass = multi_clips[9].subclip(28,30).set_start(scene1_lantern.end)\n",
    "\n",
    "title = TextClip('my_street', font='Consolas', color='white', fontsize= 70)\n",
    "title = title.set_duration(3).set_start(scene1_grass.end).set_position(\"center\")\n",
    "\n",
    "title2 = TextClip('by bartlomiej kopysc', font='Consolas', color='white', fontsize=20)\n",
    "title2 = title2.set_duration(3).set_start(scene1_grass.end).set_position((0.33,0.7), relative=True)\n",
    "\n",
    "scene2_enter = multi_clips[0].subclip(0,7).set_start(title.end)\n",
    "scene2_block = multi_clips[1].subclip(2,5).set_start(scene2_enter.end)\n",
    "scene2_block = scene2_block.set_audio(scene2_block.audio.volumex(0.5))\n",
    "scene2_path = multi_clips[7].subclip(3,6).set_start(scene2_block.end)\n",
    "\n",
    "scene3_trees = multi_clips[2].subclip(6,10).set_start(scene2_path.end)\n",
    "scene3_treeclose = multi_clips[3].set_duration(6).set_start(scene3_trees.end)\n",
    "eff1_grass = multi_clips[9].subclip(26,32)\n",
    "eff1_cars = multi_clips[8].subclip(14,20)\n",
    "\n",
    "eff2_dirt = multi_clips[12].subclip(2,9)\n",
    "eff2_candles = multi_clips[13].subclip(2,9)\n",
    "\n",
    "eff3_road = multi_clips[7].subclip(2,7).volumex(0.5)\n",
    "eff3_lamp = multi_clips[10].subclip(6,11).volumex(0.5)\n",
    "eff3_candle = multi_clips[14].subclip(0,5).volumex(0.5)\n",
    "eff3_trees = multi_clips[2].subclip(6,11).volumex(0.5)\n",
    "\n",
    "#ciekawy efekt1\n",
    "mask1 = ImageClip(\"my_street_film/images/mask2.png\")\n",
    "eff_clips = [eff1_cars,eff1_grass]\n",
    "regions = findObjects(mask1)\n",
    "compose_clips =  [c.resize(r.size)\n",
    "                   .set_mask(r.mask)\n",
    "                   .set_pos(r.screenpos)\n",
    "                  for c,r in zip(eff_clips,regions)]\n",
    "\n",
    "effect_clip1 = CompositeVideoClip(compose_clips,mask1.size)\n",
    "effect_clip1 = effect_clip1.set_start(scene3_treeclose.end)\n",
    "#Koniec efektu\n",
    "\n",
    "#ciekawy efekt2\n",
    "mask2 = ImageClip(\"my_street_film/images/mask3b.png\")\n",
    "eff_clips = [eff2_candles,eff2_dirt]\n",
    "regions = findObjects(mask2)\n",
    "compose_clips2 =  [c.resize(r.size)\n",
    "                   .set_mask(r.mask)\n",
    "                   .set_pos(r.screenpos)\n",
    "                  for c,r in zip(eff_clips,regions)]\n",
    "\n",
    "effect_clip2 = CompositeVideoClip(compose_clips2,mask2.size)\n",
    "effect_clip2 = effect_clip2.set_start(effect_clip1.end)\n",
    "#Koniec efektu\n",
    "\n",
    "#ciekawy efekt3\n",
    "mask3 = ImageClip(\"my_street_film/images/mask4.png\")\n",
    "eff_clips = [eff3_candle, eff3_lamp, eff3_road, eff3_trees]\n",
    "regions = findObjects(mask3)\n",
    "compose_clips3 =  [c.resize(r.size)\n",
    "                   .set_mask(r.mask)\n",
    "                   .set_pos(r.screenpos)\n",
    "                  for c,r in zip(eff_clips,regions)]\n",
    "\n",
    "effect_clip3 = CompositeVideoClip(compose_clips3,mask3.size)\n",
    "effect_clip3 = effect_clip3.set_start(effect_clip2.end)\n",
    "#Koniec efektu\n",
    "\n",
    "scene4_candleclose = multi_clips[14].subclip(0,4).set_start(effect_clip3.end)\n",
    "scene4_candleslow = scene4_candleclose.fl_time(lambda t: 0.7*t).set_duration(8).fadeout(2)\n",
    "\n",
    "title_end = TextClip(\"made with moviepy\\n2021\", font='Consolas', color='white', fontsize = 30)\n",
    "title_end = title_end.set_duration(6).set_start(scene4_candleslow.end).set_position(\"center\").fadein(1)\n",
    "\n",
    "\n",
    "# Łączenie wszystkich klipów\n",
    "\n",
    "music1 = AudioFileClip('my_street_film/music/Spring Migration - The Great North Sound Society.mp3')\n",
    "music1 = music1.set_start(scene1_grass.start).set_end(title_end.end)\n",
    "\n",
    "final_clips = [scene1_road, scene1_lantern,scene1_grass,scene2_block,scene2_enter,scene2_path,\n",
    "               scene3_treeclose,scene3_trees,scene4_candleslow,effect_clip1, effect_clip2, effect_clip3,\n",
    "              title, title2, title_end]\n",
    "\n",
    "final = CompositeVideoClip(final_clips)\n",
    "final_audio = CompositeAudioClip([final.audio, music1])\n",
    "final_audio = final_audio.audio_fadeout(6)\n",
    "final = final.set_audio(final_audio)\n"
   ]
  },
  {
   "cell_type": "code",
   "execution_count": null,
   "id": "27d5eecc",
   "metadata": {},
   "outputs": [],
   "source": [
    "#zapis do pliku\n",
    "final.write_videofile('my_street_film/film.mp4', bitrate = \"8000k\")"
   ]
  }
 ],
 "metadata": {
  "kernelspec": {
   "display_name": "Python 3",
   "language": "python",
   "name": "python3"
  },
  "language_info": {
   "codemirror_mode": {
    "name": "ipython",
    "version": 3
   },
   "file_extension": ".py",
   "mimetype": "text/x-python",
   "name": "python",
   "nbconvert_exporter": "python",
   "pygments_lexer": "ipython3",
   "version": "3.8.5"
  }
 },
 "nbformat": 4,
 "nbformat_minor": 5
}
