{
 "cells": [
  {
   "cell_type": "code",
   "execution_count": 3,
   "id": "a32f5ad8",
   "metadata": {},
   "outputs": [],
   "source": [
    "from moviepy.editor import *\n",
    "from os import listdir\n",
    "from os.path import isfile, join\n",
    "import random"
   ]
  },
  {
   "cell_type": "code",
   "execution_count": 2,
   "id": "745f2cda",
   "metadata": {},
   "outputs": [
    {
     "name": "stdout",
     "output_type": "stream",
     "text": [
      "0 : my_street_film/clips/MVI_7176.AVI\n",
      "1 : my_street_film/clips/MVI_7177.AVI\n",
      "2 : my_street_film/clips/MVI_7179.AVI\n",
      "3 : my_street_film/clips/MVI_7182.AVI\n",
      "4 : my_street_film/clips/MVI_7183.AVI\n",
      "5 : my_street_film/clips/MVI_7184.AVI\n",
      "6 : my_street_film/clips/MVI_7185.AVI\n",
      "7 : my_street_film/clips/MVI_7186.AVI\n",
      "8 : my_street_film/clips/MVI_7188.AVI\n",
      "9 : my_street_film/clips/MVI_7190.AVI\n",
      "10 : my_street_film/clips/MVI_7191.AVI\n",
      "11 : my_street_film/clips/MVI_7197.AVI\n",
      "12 : my_street_film/clips/MVI_7198.AVI\n",
      "13 : my_street_film/clips/MVI_7202.AVI\n",
      "14 : my_street_film/clips/MVI_7205.AVI\n",
      "0 : my_street_film/music/Dream Lagoon - Chris Haugen.mp3\n",
      "1 : my_street_film/music/Spring Migration - The Great North Sound Society.mp3\n",
      "2 : my_street_film/music/The Crows Did It - Nathan Moore.mp3\n"
     ]
    }
   ],
   "source": [
    "#Załadowanie wszystkich klipów z folderu, warto znać ich kolejność\n",
    "clip_path = \"my_street_film/clips/\"\n",
    "def load_files(clip_path):\n",
    "    files = [f for f in listdir(clip_path)]\n",
    "    files = [clip_path + f for f in files]\n",
    "    i=0\n",
    "    for n in files:\n",
    "        print(i,\":\",n)\n",
    "        i+=1\n",
    "    multi_clips = [n for n in files]\n",
    "    return multi_clips\n",
    "\n",
    "multi_clips = load_files(clip_path)\n",
    "multi_music = load_files(\"my_street_film/music/\")\n"
   ]
  },
  {
   "cell_type": "code",
   "execution_count": 5,
   "id": "620cb2ae",
   "metadata": {},
   "outputs": [
    {
     "name": "stdout",
     "output_type": "stream",
     "text": [
      "42.42000000000001\n",
      "ok: 0 9.811\n",
      "ok: 9.811 29.982\n",
      "end time:  42.42000000000001\n",
      "end: 29.982 42.42000000000001\n"
     ]
    },
    {
     "name": "stderr",
     "output_type": "stream",
     "text": [
      "chunk:   3%|█▉                                                             | 28/936 [00:00<00:03, 269.36it/s, now=None]"
     ]
    },
    {
     "name": "stdout",
     "output_type": "stream",
     "text": [
      "Moviepy - Building video output/random_film4.mp4.\n",
      "MoviePy - Writing audio in random_film4TEMP_MPY_wvf_snd.mp3\n"
     ]
    },
    {
     "name": "stderr",
     "output_type": "stream",
     "text": [
      "t:   0%|▎                                                                   | 6/1273 [00:00<00:21, 59.45it/s, now=None]"
     ]
    },
    {
     "name": "stdout",
     "output_type": "stream",
     "text": [
      "MoviePy - Done.\n",
      "Moviepy - Writing video output/random_film4.mp4\n",
      "\n"
     ]
    },
    {
     "name": "stderr",
     "output_type": "stream",
     "text": [
      "                                                                                                                       \r"
     ]
    },
    {
     "name": "stdout",
     "output_type": "stream",
     "text": [
      "Moviepy - Done !\n",
      "Moviepy - video ready output/random_film4.mp4\n"
     ]
    }
   ],
   "source": [
    "def randomize_order(number_of_used_clips, number_of_reps, multi_clips):\n",
    "#    number_of_reps = 2 #ile razy dany klip może być powtórzony dodatkowo\n",
    "    \n",
    "    if number_of_used_clips == None:\n",
    "        number_of_used_clips = len(multi_clips)\n",
    "    if number_of_used_clips > len(multi_clips):\n",
    "        raise Exception(\"To big number of clips, should be:\", len(multi_clips))\n",
    "        \n",
    "    order_clips = []\n",
    "\n",
    "    final_number_of_clips =  number_of_used_clips + number_of_reps\n",
    "\n",
    "    jackpot =[n for n in range(0,len(multi_clips))]\n",
    "    super_jackpot = jackpot.copy()\n",
    "\n",
    "    while True:\n",
    "        if len(order_clips) == number_of_used_clips:\n",
    "            for n in range(0,number_of_reps):\n",
    "                super_random = random.choice(super_jackpot)\n",
    "                order_clips.append(super_random)\n",
    "            break\n",
    "\n",
    "        randomize = random.choice(jackpot)\n",
    "\n",
    "        if randomize in order_clips:\n",
    "            jackpot.remove(randomize)\n",
    "            continue\n",
    "\n",
    "        order_clips.append(randomize)\n",
    "    \n",
    "    return order_clips\n",
    "\n",
    "def arrange_clips(min_time, max_time, multi_clips, random_order):\n",
    "    video_clips =[]\n",
    "    end_times = []\n",
    "    end_times.append(0)\n",
    "    \n",
    "    for n in random_order:\n",
    "        clip = VideoFileClip(multi_clips[n])\n",
    "        clip_time = clip.duration\n",
    "        rand_time = round(random.uniform(min_time,max_time),2)\n",
    "        if rand_time > clip_time:\n",
    "            rand_time = clip_time\n",
    "        rand_start = clip_time - rand_time\n",
    "        rand_start = round(random.uniform(0,rand_start),2)\n",
    "        clip = clip.subclip(rand_start,rand_start+rand_time)\n",
    "        clip = clip.set_start(end_times[len(end_times)-1])\n",
    "        end_times.append(clip.end)\n",
    "        video_clips.append(clip)\n",
    "        \n",
    "    return video_clips\n",
    "\n",
    "\n",
    "def arrange_music(multi_music, random_order, generated_clips, iscut, ismusic, fadetime):\n",
    "    #iscut daje losowy przydzial audio\n",
    "    clips_time = sum(map(float,[f.duration for f in generated_clips]))\n",
    "    all_music_time = sum([AudioFileClip(f).duration for f in multi_music])\n",
    "#    clips_music = [f.audio for f in generated_clips]\n",
    "    clips_music = []\n",
    "#    print(clips_music)\n",
    "    print(clips_time)\n",
    "\n",
    "    end_times = []\n",
    "    end_times.append(0)\n",
    "    \n",
    "#    if isaudio == False:\n",
    "#        clips_music = clips_music.clear()\n",
    "        \n",
    "    if ismusic == False:\n",
    "        return clips_music\n",
    "    \n",
    "    if iscut:\n",
    "        loop_counter = 0\n",
    "        for n in random_order:\n",
    "            music = AudioFileClip(multi_music[n])\n",
    "            if loop_counter + 1 >= len(random_order):\n",
    "                print(\"end time: \", clips_time)\n",
    "                music = music.set_start(end_times[len(end_times)-1])\n",
    "                music = music.set_end(clips_time)\n",
    "                music = music.audio_fadein(fadetime).audio_fadeout(fadetime)\n",
    "                print(\"end:\",music.start, music.end)\n",
    "            else:\n",
    "                randomize = round(random.uniform(end_times[len(end_times)-1],clips_time), 3)\n",
    "                music = music.set_start(end_times[len(end_times)-1])\n",
    "                music = music.set_end(randomize)\n",
    "                music = music.audio_fadein(fadetime).audio_fadeout(fadetime)\n",
    "                print(\"ok:\",music.start, music.end)\n",
    "#            print(music)\n",
    "            clips_music.append(music)\n",
    "            end_times.append(music.end)\n",
    "            loop_counter += 1\n",
    "    else:\n",
    "        for n in random_order:\n",
    "            music = AudioFileClip(multi_music[n])\n",
    "            if music.duration > (clips_time-end_times[len(end_times)-1]):\n",
    "                music = music.set_start(end_times[len(end_times)-1])\n",
    "                music = music.set_end(clips_time)\n",
    "                music = music.audio_fadein(fadetime).audio_fadeout(fadetime)\n",
    "                clips_music.append(music)\n",
    "                break\n",
    "            else:\n",
    "                music = music.set_start(end_times[len(end_times)-1])\n",
    "                music = music.set_start(end_times[len(end_times)-1])\n",
    "                clips_music.append(music)\n",
    "                end_times.append(music.end)\n",
    "    return clips_music\n",
    "\n",
    "random_clips_order = randomize_order(None,2, multi_clips)\n",
    "generated_clips = arrange_clips(1,4,multi_clips,random_clips_order)\n",
    "\n",
    "random_music_order = randomize_order(None,0, multi_music)\n",
    "generated_music = arrange_music(multi_music, random_music_order, generated_clips, True, True, 1.5)\n",
    "\n",
    "#print(random_music_order)\n",
    "\n",
    "final = CompositeVideoClip(generated_clips)\n",
    "final_audio = CompositeAudioClip(generated_music)\n",
    "final = final.set_audio(final_audio)\n",
    "final.write_videofile(\"output/random_film4.mp4\")\n",
    "#print(randomize_order)\n",
    "#print(generate_clips)\n",
    "\n",
    "\n",
    "    "
   ]
  },
  {
   "cell_type": "code",
   "execution_count": null,
   "id": "0fccc612",
   "metadata": {},
   "outputs": [],
   "source": []
  },
  {
   "cell_type": "code",
   "execution_count": null,
   "id": "78b3b5c9",
   "metadata": {},
   "outputs": [],
   "source": []
  },
  {
   "cell_type": "code",
   "execution_count": null,
   "id": "b3393963",
   "metadata": {},
   "outputs": [],
   "source": []
  }
 ],
 "metadata": {
  "kernelspec": {
   "display_name": "Python 3",
   "language": "python",
   "name": "python3"
  },
  "language_info": {
   "codemirror_mode": {
    "name": "ipython",
    "version": 3
   },
   "file_extension": ".py",
   "mimetype": "text/x-python",
   "name": "python",
   "nbconvert_exporter": "python",
   "pygments_lexer": "ipython3",
   "version": "3.8.5"
  }
 },
 "nbformat": 4,
 "nbformat_minor": 5
}
